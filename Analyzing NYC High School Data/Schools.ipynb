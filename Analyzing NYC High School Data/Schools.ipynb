{
 "cells": [
  {
   "cell_type": "markdown",
   "metadata": {},
   "source": [
    "# Analyzing NYC High School Data\n",
    "\n",
    "In this project, we will explore the relationships between SAT scores and demographic factors in New York City public schools. \n",
    "\n",
    "The [SAT](https://en.wikipedia.org/wiki/SAT) or Scholastic Aptitude Test, is a test that high school seniors in the U.S. take every year. The SAT has three sections, each with a max of 800 points. \n",
    "\n",
    "High average SAT scores are usually indicative of a good high school.\n",
    "\n",
    "New York City has published data on [student SAT scores](https://data.cityofnewyork.us/Education/SAT-Results/f9bf-2cp4) by high school, along with additional demographic data sets. We will combine the following disparate data sets into a single, clean pandas dataframe:\n",
    "\n",
    "- [SAT scores by school](https://data.cityofnewyork.us/Education/2012-SAT-Results/f9bf-2cp4) - SAT scores for each high school in New York City\n",
    "- [School attendance](https://data.cityofnewyork.us/Education/2010-2011-School-Attendance-and-Enrollment-Statist/7z8d-msnt) - Attendance information for each school in New York City\n",
    "- [Class size](https://data.cityofnewyork.us/Education/2010-2011-Class-Size-School-level-detail/urz7-pzb3) - Information on class size for each school\n",
    "- [AP test results](https://data.cityofnewyork.us/Education/AP-College-Board-2010-School-Level-Results/itfs-ms3e) - Advanced Placement (AP) exam results for each high school (passing an optional AP exam in a particular subject can earn a student college credit in that subject)\n",
    "- [Graduaton outcomes](https://data.cityofnewyork.us/Education/Graduation-Outcomes-Classes-Of-2005-2010-School-Le/vh2h-md7a) - The percentage of students who graduated, and other outcome information\n",
    "- [Demographics](https://data.cityofnewyork.us/Education/2006-2012-School-Demographics-and-Accountability-S/ihfw-zy9j) - Demographic information for each school\n",
    "- [School survey](https://data.cityofnewyork.us/Education/NYC-School-Survey-2011/mnz3-dyi8) - Surveys of parents, teachers, and students at each school\n",
    "\n",
    "NYC has a significant immigrant population and is very diverse, so comparing demographic factos such as race, income, and gender with SAT scores is a good way to determine whether the SAT is a fair test and that is what we will begin to explore."
   ]
  },
  {
   "cell_type": "markdown",
   "metadata": {},
   "source": [
    "# Read in the data"
   ]
  },
  {
   "cell_type": "code",
   "execution_count": 1,
   "metadata": {
    "collapsed": false
   },
   "outputs": [],
   "source": [
    "import pandas as pd\n",
    "import numpy as np\n",
    "import re\n",
    "import matplotlib.pyplot as plt\n",
    "import seaborn as sns\n",
    "%matplotlib inline\n",
    "\n",
    "data_files = [\n",
    "    \"ap_2010.csv\",\n",
    "    \"class_size.csv\",\n",
    "    \"demographics.csv\",\n",
    "    \"graduation.csv\",\n",
    "    \"hs_directory.csv\",\n",
    "    \"sat_results.csv\"\n",
    "]\n",
    "\n",
    "data = {}\n",
    "\n",
    "for f in data_files:\n",
    "    d = pd.read_csv(\"schools/{0}\".format(f))\n",
    "    data[f.replace(\".csv\", \"\")] = d"
   ]
  },
  {
   "cell_type": "markdown",
   "metadata": {},
   "source": [
    "# Read in the surveys"
   ]
  },
  {
   "cell_type": "code",
   "execution_count": 2,
   "metadata": {
    "collapsed": true
   },
   "outputs": [],
   "source": [
    "all_survey = pd.read_csv(\"schools/survey_all.txt\", delimiter=\"\\t\", encoding='windows-1252')\n",
    "d75_survey = pd.read_csv(\"schools/survey_d75.txt\", delimiter=\"\\t\", encoding='windows-1252')\n",
    "survey = pd.concat([all_survey, d75_survey], axis=0)\n",
    "\n",
    "survey[\"DBN\"] = survey[\"dbn\"]\n",
    "\n",
    "survey_fields = [\n",
    "    \"DBN\", \n",
    "    \"rr_s\", \n",
    "    \"rr_t\", \n",
    "    \"rr_p\", \n",
    "    \"N_s\", \n",
    "    \"N_t\", \n",
    "    \"N_p\", \n",
    "    \"saf_p_11\", \n",
    "    \"com_p_11\", \n",
    "    \"eng_p_11\", \n",
    "    \"aca_p_11\", \n",
    "    \"saf_t_11\", \n",
    "    \"com_t_11\", \n",
    "    \"eng_t_11\", \n",
    "    \"aca_t_11\", \n",
    "    \"saf_s_11\", \n",
    "    \"com_s_11\", \n",
    "    \"eng_s_11\", \n",
    "    \"aca_s_11\", \n",
    "    \"saf_tot_11\", \n",
    "    \"com_tot_11\", \n",
    "    \"eng_tot_11\", \n",
    "    \"aca_tot_11\",\n",
    "]\n",
    "survey = survey.loc[:,survey_fields]\n",
    "data[\"survey\"] = survey"
   ]
  },
  {
   "cell_type": "markdown",
   "metadata": {},
   "source": [
    "# Add DBN columns"
   ]
  },
  {
   "cell_type": "code",
   "execution_count": 3,
   "metadata": {
    "collapsed": true
   },
   "outputs": [],
   "source": [
    "data[\"hs_directory\"][\"DBN\"] = data[\"hs_directory\"][\"dbn\"]\n",
    "\n",
    "def pad_csd(num):\n",
    "    string_representation = str(num)\n",
    "    if len(string_representation) > 1:\n",
    "        return string_representation\n",
    "    else:\n",
    "        return \"0\" + string_representation\n",
    "    \n",
    "data[\"class_size\"][\"padded_csd\"] = data[\"class_size\"][\"CSD\"].apply(pad_csd)\n",
    "data[\"class_size\"][\"DBN\"] = data[\"class_size\"][\"padded_csd\"] + data[\"class_size\"][\"SCHOOL CODE\"]"
   ]
  },
  {
   "cell_type": "markdown",
   "metadata": {},
   "source": [
    "# Convert columns to numeric"
   ]
  },
  {
   "cell_type": "code",
   "execution_count": 4,
   "metadata": {
    "collapsed": true
   },
   "outputs": [],
   "source": [
    "cols = ['SAT Math Avg. Score', 'SAT Critical Reading Avg. Score', 'SAT Writing Avg. Score']\n",
    "for c in cols:\n",
    "    data[\"sat_results\"][c] = pd.to_numeric(data[\"sat_results\"][c], errors=\"coerce\")\n",
    "\n",
    "data['sat_results']['sat_score'] = data['sat_results'][cols[0]] + data['sat_results'][cols[1]] + data['sat_results'][cols[2]]\n",
    "\n",
    "def find_lat(loc):\n",
    "    coords = re.findall(\"\\(.+, .+\\)\", loc)\n",
    "    lat = coords[0].split(\",\")[0].replace(\"(\", \"\")\n",
    "    return lat\n",
    "\n",
    "def find_lon(loc):\n",
    "    coords = re.findall(\"\\(.+, .+\\)\", loc)\n",
    "    lon = coords[0].split(\",\")[1].replace(\")\", \"\").strip()\n",
    "    return lon\n",
    "\n",
    "data[\"hs_directory\"][\"lat\"] = data[\"hs_directory\"][\"Location 1\"].apply(find_lat)\n",
    "data[\"hs_directory\"][\"lon\"] = data[\"hs_directory\"][\"Location 1\"].apply(find_lon)\n",
    "\n",
    "data[\"hs_directory\"][\"lat\"] = pd.to_numeric(data[\"hs_directory\"][\"lat\"], errors=\"coerce\")\n",
    "data[\"hs_directory\"][\"lon\"] = pd.to_numeric(data[\"hs_directory\"][\"lon\"], errors=\"coerce\")"
   ]
  },
  {
   "cell_type": "markdown",
   "metadata": {},
   "source": [
    "# Condense datasets"
   ]
  },
  {
   "cell_type": "code",
   "execution_count": 5,
   "metadata": {
    "collapsed": false
   },
   "outputs": [],
   "source": [
    "class_size = data[\"class_size\"]\n",
    "class_size = class_size[class_size[\"GRADE \"] == \"09-12\"]\n",
    "class_size = class_size[class_size[\"PROGRAM TYPE\"] == \"GEN ED\"]\n",
    "\n",
    "class_size = class_size.groupby(\"DBN\").agg(np.mean)\n",
    "class_size.reset_index(inplace=True)\n",
    "data[\"class_size\"] = class_size\n",
    "\n",
    "data[\"demographics\"] = data[\"demographics\"][data[\"demographics\"][\"schoolyear\"] == 20112012]\n",
    "\n",
    "data[\"graduation\"] = data[\"graduation\"][data[\"graduation\"][\"Cohort\"] == \"2006\"]\n",
    "data[\"graduation\"] = data[\"graduation\"][data[\"graduation\"][\"Demographic\"] == \"Total Cohort\"]"
   ]
  },
  {
   "cell_type": "markdown",
   "metadata": {},
   "source": [
    "# Convert AP scores to numeric"
   ]
  },
  {
   "cell_type": "code",
   "execution_count": 6,
   "metadata": {
    "collapsed": true
   },
   "outputs": [],
   "source": [
    "cols = ['AP Test Takers ', 'Total Exams Taken', 'Number of Exams with scores 3 4 or 5']\n",
    "\n",
    "for col in cols:\n",
    "    data[\"ap_2010\"][col] = pd.to_numeric(data[\"ap_2010\"][col], errors=\"coerce\")"
   ]
  },
  {
   "cell_type": "markdown",
   "metadata": {},
   "source": [
    "# Combine the datasets"
   ]
  },
  {
   "cell_type": "code",
   "execution_count": 7,
   "metadata": {
    "collapsed": true
   },
   "outputs": [],
   "source": [
    "combined = data[\"sat_results\"]\n",
    "\n",
    "combined = combined.merge(data[\"ap_2010\"], on=\"DBN\", how=\"left\")\n",
    "combined = combined.merge(data[\"graduation\"], on=\"DBN\", how=\"left\")\n",
    "\n",
    "to_merge = [\"class_size\", \"demographics\", \"survey\", \"hs_directory\"]\n",
    "\n",
    "for m in to_merge:\n",
    "    combined = combined.merge(data[m], on=\"DBN\", how=\"inner\")\n",
    "\n",
    "combined = combined.fillna(combined.mean())\n",
    "combined = combined.fillna(0)"
   ]
  },
  {
   "cell_type": "markdown",
   "metadata": {},
   "source": [
    "# Add a school district column for mapping"
   ]
  },
  {
   "cell_type": "code",
   "execution_count": 8,
   "metadata": {
    "collapsed": true
   },
   "outputs": [],
   "source": [
    "def get_first_two_chars(dbn):\n",
    "    return dbn[0:2]\n",
    "\n",
    "combined[\"school_dist\"] = combined[\"DBN\"].apply(get_first_two_chars)"
   ]
  },
  {
   "cell_type": "markdown",
   "metadata": {},
   "source": [
    "# Find correlations"
   ]
  },
  {
   "cell_type": "code",
   "execution_count": 9,
   "metadata": {
    "collapsed": false
   },
   "outputs": [
    {
     "name": "stdout",
     "output_type": "stream",
     "text": [
      "SAT Critical Reading Avg. Score         0.986820\n",
      "SAT Math Avg. Score                     0.972643\n",
      "SAT Writing Avg. Score                  0.987771\n",
      "sat_score                               1.000000\n",
      "AP Test Takers                          0.523140\n",
      "Total Exams Taken                       0.514333\n",
      "Number of Exams with scores 3 4 or 5    0.463245\n",
      "Total Cohort                            0.325144\n",
      "CSD                                     0.042948\n",
      "NUMBER OF STUDENTS / SEATS FILLED       0.394626\n",
      "NUMBER OF SECTIONS                      0.362673\n",
      "AVERAGE CLASS SIZE                      0.381014\n",
      "SIZE OF SMALLEST CLASS                  0.249949\n",
      "SIZE OF LARGEST CLASS                   0.314434\n",
      "SCHOOLWIDE PUPIL-TEACHER RATIO               NaN\n",
      "schoolyear                                   NaN\n",
      "fl_percent                                   NaN\n",
      "frl_percent                            -0.722225\n",
      "total_enrollment                        0.367857\n",
      "ell_num                                -0.153778\n",
      "ell_percent                            -0.398750\n",
      "sped_num                                0.034933\n",
      "sped_percent                           -0.448170\n",
      "asian_num                               0.475445\n",
      "asian_per                               0.570730\n",
      "black_num                               0.027979\n",
      "black_per                              -0.284139\n",
      "hispanic_num                            0.025744\n",
      "hispanic_per                           -0.396985\n",
      "white_num                               0.449559\n",
      "                                          ...   \n",
      "rr_p                                    0.047925\n",
      "N_s                                     0.423463\n",
      "N_t                                     0.291463\n",
      "N_p                                     0.421530\n",
      "saf_p_11                                0.122913\n",
      "com_p_11                               -0.115073\n",
      "eng_p_11                                0.020254\n",
      "aca_p_11                                0.035155\n",
      "saf_t_11                                0.313810\n",
      "com_t_11                                0.082419\n",
      "eng_t_11                                0.036906\n",
      "aca_t_11                                0.132348\n",
      "saf_s_11                                0.337639\n",
      "com_s_11                                0.187370\n",
      "eng_s_11                                0.213822\n",
      "aca_s_11                                0.339435\n",
      "saf_tot_11                              0.318753\n",
      "com_tot_11                              0.077310\n",
      "eng_tot_11                              0.100102\n",
      "aca_tot_11                              0.190966\n",
      "grade_span_max                               NaN\n",
      "expgrade_span_max                            NaN\n",
      "zip                                    -0.063977\n",
      "total_students                          0.407827\n",
      "number_programs                         0.117012\n",
      "priority08                                   NaN\n",
      "priority09                                   NaN\n",
      "priority10                                   NaN\n",
      "lat                                    -0.121029\n",
      "lon                                    -0.132222\n",
      "Name: sat_score, Length: 67, dtype: float64\n"
     ]
    }
   ],
   "source": [
    "correlations = combined.corr()\n",
    "correlations = correlations[\"sat_score\"]\n",
    "print(correlations)"
   ]
  },
  {
   "cell_type": "markdown",
   "metadata": {},
   "source": [
    "## Exploring Population vs. SAT Scores\n",
    "Because enrollment seems to have such a strong correlation, let's explore total_enrollment vs sat_score. Each point in the scatterplot will represent a high school, so we'll be able to see if there are any interesting patterns."
   ]
  },
  {
   "cell_type": "code",
   "execution_count": 10,
   "metadata": {
    "collapsed": false
   },
   "outputs": [
    {
     "data": {
      "text/plain": [
       "<matplotlib.axes._subplots.AxesSubplot at 0x7fcf0c80fba8>"
      ]
     },
     "execution_count": 10,
     "metadata": {},
     "output_type": "execute_result"
    },
    {
     "data": {
      "image/png": "[encoded data removed]",
      "text/plain": [
       "<matplotlib.figure.Figure at 0x7fcf0c80f5c0>"
      ]
     },
     "metadata": {},
     "output_type": "display_data"
    }
   ],
   "source": [
    "#Make a scatter plot and check correlation\n",
    "combined.plot.scatter(x='total_enrollment', y='sat_score')\n"
   ]
  },
  {
   "cell_type": "markdown",
   "metadata": {},
   "source": [
    "Upon examining the scatter plot we can see that the correlation seems to come from the fact that the schools with fewer students are performing poorly, and not necessarily that the schools with more students are performing particularly well. This could be due to a variety of factors, but the first step is taking a closer look at the most interesting part of the graph above: the clump of schools with lower than 1000 students which all performed relatively poorly (i.e., scored less than 1000 on average).\n",
    "\n",
    "Another important factor to bear in mind is that lower enrollment means smaller schools, and smaller schools tend to have [lessened capacity for college preparation](https://www.gao.gov/products/gao-19-8)."
   ]
  },
  {
   "cell_type": "code",
   "execution_count": 11,
   "metadata": {
    "collapsed": false
   },
   "outputs": [
    {
     "data": {
      "text/plain": [
       "array(['INTERNATIONAL COMMUNITY HIGH SCHOOL', 0,\n",
       "       'BRONX INTERNATIONAL HIGH SCHOOL',\n",
       "       'KINGSBRIDGE INTERNATIONAL HIGH SCHOOL',\n",
       "       'INTERNATIONAL SCHOOL FOR LIBERAL ARTS',\n",
       "       'HIGH SCHOOL OF WORLD CULTURES',\n",
       "       'BROOKLYN INTERNATIONAL HIGH SCHOOL',\n",
       "       'INTERNATIONAL HIGH SCHOOL AT PROSPECT',\n",
       "       'IT TAKES A VILLAGE ACADEMY', 'MULTICULTURAL HIGH SCHOOL',\n",
       "       'PAN AMERICAN INTERNATIONAL HIGH SCHOO'], dtype=object)"
      ]
     },
     "execution_count": 11,
     "metadata": {},
     "output_type": "execute_result"
    }
   ],
   "source": [
    "filter1 = combined['total_enrollment'] < 1000\n",
    "low_enrollment = combined[filter1]\n",
    "low_enrollment = low_enrollment[low_enrollment['sat_score'] < 1000]\n",
    "low_enrollment['School Name'].unique()"
   ]
  },
  {
   "cell_type": "markdown",
   "metadata": {},
   "source": [
    "Immediately, it has become apparent that all of these schools are going to have a significant number of English as Second Language (ESL) students. To see how that affects SAT score independantly we can check the correlation between sat_score and ell_percent above (strong negative correlation) and check the scatter plot for all schools."
   ]
  },
  {
   "cell_type": "markdown",
   "metadata": {},
   "source": [
    "## Exploring English as a Second Language vs. SAT Score"
   ]
  },
  {
   "cell_type": "code",
   "execution_count": 12,
   "metadata": {
    "collapsed": false
   },
   "outputs": [
    {
     "data": {
      "text/plain": [
       "<matplotlib.axes._subplots.AxesSubplot at 0x7fcf0c811f60>"
      ]
     },
     "execution_count": 12,
     "metadata": {},
     "output_type": "execute_result"
    },
    {
     "data": {
      "image/png": "[encoded data removed]",
      "text/plain": [
       "<matplotlib.figure.Figure at 0x7fcf0c84d0f0>"
      ]
     },
     "metadata": {},
     "output_type": "display_data"
    }
   ],
   "source": [
    "#Plotting a scatter for ell percent vs SAT Score\n",
    "combined.plot.scatter(x='ell_percent', y = 'sat_score')"
   ]
  },
  {
   "cell_type": "markdown",
   "metadata": {},
   "source": [
    "While the divide is clear, schools who have a higher percentage of ESL students tend to have lower SAT scores on average. Perhaps the SAT is unfavorable to those whose English language skills are not very strong (reasonable, since a large portion (two-thirds) of the SAT is based on English comprehension). Perhaps also those schools with higher-than-average ESL students also have lower budgets and therefore less financial freedom to help educate their students in preparation for standardized testing, due to their already greater fiscal strain of across-the-board ESL classes."
   ]
  },
  {
   "cell_type": "markdown",
   "metadata": {},
   "source": [
    "# Exploring and Plotting survey correlations"
   ]
  },
  {
   "cell_type": "code",
   "execution_count": 13,
   "metadata": {
    "collapsed": false
   },
   "outputs": [],
   "source": [
    "# Remove DBN since it's a unique identifier, not a useful numerical value for correlation.\n",
    "survey_fields.remove(\"DBN\")"
   ]
  },
  {
   "cell_type": "code",
   "execution_count": 14,
   "metadata": {
    "collapsed": false
   },
   "outputs": [
    {
     "data": {
      "text/plain": [
       "<matplotlib.axes._subplots.AxesSubplot at 0x7fcf0c843c88>"
      ]
     },
     "execution_count": 14,
     "metadata": {},
     "output_type": "execute_result"
    },
    {
     "data": {
      "image/png": "[encoded data removed]",
      "text/plain": [
       "<matplotlib.figure.Figure at 0x7fcf0c8bec88>"
      ]
     },
     "metadata": {},
     "output_type": "display_data"
    }
   ],
   "source": [
    "#Find the correlations between the survey fields and sat_score and plotting\n",
    "combined.corr()['sat_score'][survey_fields].plot.bar()"
   ]
  },
  {
   "cell_type": "markdown",
   "metadata": {},
   "source": [
    "Looking at the correaltions between survey data and sat scores, big picture looks like there seems to be a majority of positive correlations between survey data and SAT scores, with little negative correlative relationships.\n",
    "\n",
    "Looking at some of the more stronger correlations (above .25), we can see columns **N_s, N_t, N_p, saf_t_11, saf_s_11, aca_s_11, and saf_tot_11** hold the strongest correlations with SAT scores.\n",
    "\n",
    "Looking at the data dictionary for these columns, held [here](https://data.cityofnewyork.us/Education/2011-NYC-School-Survey/mnz3-dyi8), these fields description as follows:\n",
    "\n",
    "- N_s: Number of student respondents\n",
    "- N_t: Number of teacher respondents\n",
    "- N_p: Number of parent respondents\n",
    "- saf_t_11: Safety and Respect score based on teacher responses\n",
    "- saf_s_11: Safety and Respect score based on student responses\n",
    "- aca_s_11: Academic expectations score based on student responses\n",
    "- saf_tot_11: Safety and Respect total score\n",
    "\n",
    "Some interesting, while not as correlativing strong, is:\n",
    "\n",
    "- rr_s: Student Response Rate\n",
    "- eng_s_11: Engagement score based on student responses\n",
    "\n",
    "Looking at this context, we can make some initial observations:\n",
    "\n",
    "- It seems the higher number of responses taken from the survey, supplimented with highter student response rate, the higher the SAT Scores. Since this would directly be affected by Total Enrollment, this makes sense. Also, as surveys tend to be optional and volunteered, this could indicate a positive demeanor at schools where students, teachers and parents want their voices heard and see efficacy in their effect on their education. Higher engagement in education may cross over in students to achieve better on tests, including SAT.\n",
    "\n",
    "- To that point, it also looks like the higher the safety, respect and academic expectations between students and teachers, the higher the SAT scores. This could indicate where students have a healthy relationship with their teachers and schools, while feeling safe and secure, fosters a environment that nurtures engaged students who perform better on tests.\n",
    "\n"
   ]
  },
  {
   "cell_type": "markdown",
   "metadata": {},
   "source": [
    "## Exploring Safety and SAT Scores\n",
    "\n",
    "Based on the above, we have determined that saf_t_11 and saf_s_11, which measures how teachers and students perceive safety at school, correlated highly with sat_score. Let's dig into that a bit more."
   ]
  },
  {
   "cell_type": "code",
   "execution_count": 15,
   "metadata": {
    "collapsed": false
   },
   "outputs": [
    {
     "data": {
      "text/plain": [
       "<matplotlib.axes._subplots.AxesSubplot at 0x7fcf0c88d240>"
      ]
     },
     "execution_count": 15,
     "metadata": {},
     "output_type": "execute_result"
    },
    {
     "data": {
      "image/png": "[encoded data removed]",
      "text/plain": [
       "<matplotlib.figure.Figure at 0x7fcf0c8f7208>"
      ]
     },
     "metadata": {},
     "output_type": "display_data"
    }
   ],
   "source": [
    "#Scatter plot of saf_s_11 & sat_score\n",
    "combined.plot.scatter(x = 'saf_s_11', y = 'sat_score')"
   ]
  },
  {
   "cell_type": "markdown",
   "metadata": {},
   "source": [
    "As we can further see, there is a slight positive relationship as students perceived safety at school rises, so does SAT scores. There seems to be a large collection of scores that stay relatively flat between scores of 5 - 7, and as safety scores rise do we see a stronger relationship. There a few schools with relatively high safety and SAT Scores, with no school 6.5 having scores highter than 1500.\n",
    "\n",
    "Let's now compute the average safety score of each borough."
   ]
  },
  {
   "cell_type": "code",
   "execution_count": 16,
   "metadata": {
    "collapsed": false
   },
   "outputs": [
    {
     "data": {
      "text/plain": [
       "boro\n",
       "Manhattan        6.831370\n",
       "Queens           6.721875\n",
       "Bronx            6.606577\n",
       "Staten Island    6.530000\n",
       "Brooklyn         6.370755\n",
       "Name: saf_s_11, dtype: float64"
      ]
     },
     "execution_count": 16,
     "metadata": {},
     "output_type": "execute_result"
    }
   ],
   "source": [
    "#First let's group our safety scores by borough.\n",
    "boros = combined.groupby('boro').agg(np.mean)['saf_s_11']\n",
    "boros.sort_values(ascending=False)"
   ]
  },
  {
   "cell_type": "markdown",
   "metadata": {},
   "source": [
    "Looking at the average safety scores across the five boroughs, it looks like Manhatten and Queens have the highest safety score and Brooklyn, Staten Island having the lowest. Manhatten may make sense to it being the business, financial and entertainment/arts hub of the city and state. Brooklyn is the most populous of the boroughs and most diverse. Seeing that Brooklyn median income is lower compared to the other boroughs, that may paint a picture as to why the lower safety score."
   ]
  },
  {
   "cell_type": "markdown",
   "metadata": {},
   "source": [
    "## Exploring Race and SAT Scores\n",
    "\n",
    "Now lets explore the relationship between race and SAT Scores.\n",
    "\n",
    "There are a few columns that indicate the percentage of race at a given school:\n",
    "\n",
    "- white_per\n",
    "- asian_per\n",
    "- black_per\n",
    "- hispanic_per\n",
    "\n",
    "Let's plot the correlations between these columns and sat_score to see any racial differences"
   ]
  },
  {
   "cell_type": "code",
   "execution_count": 17,
   "metadata": {
    "collapsed": false
   },
   "outputs": [
    {
     "data": {
      "text/plain": [
       "<matplotlib.axes._subplots.AxesSubplot at 0x7fcf0c925828>"
      ]
     },
     "execution_count": 17,
     "metadata": {},
     "output_type": "execute_result"
    },
    {
     "data": {
      "image/png": "[encoded data removed]",
      "text/plain": [
       "<matplotlib.figure.Figure at 0x7fcf0c926358>"
      ]
     },
     "metadata": {},
     "output_type": "display_data"
    }
   ],
   "source": [
    "race_cols = ['white_per',\n",
    "            'asian_per',\n",
    "            'black_per',\n",
    "            'hispanic_per'\n",
    "            ]\n",
    "\n",
    "combined.corr()['sat_score'][race_cols].plot.bar()"
   ]
  },
  {
   "cell_type": "markdown",
   "metadata": {},
   "source": [
    "We see a strong correlations (around 0.6) for schools with a higher percentage of white and asian students and SAT Scores, compared to the negative correlations between those schools with higher percentage of black and hispanic students (around -0.4), showing a bit of racial disparity. When looking at the above Brooklyn Safety info, certain neighborhoods with more ethically diverse population may have not as many resources for students or may be in areas that are perceived not as safe. "
   ]
  },
  {
   "cell_type": "code",
   "execution_count": 18,
   "metadata": {
    "collapsed": false
   },
   "outputs": [
    {
     "data": {
      "text/plain": [
       "<matplotlib.axes._subplots.AxesSubplot at 0x7fcf0c560c18>"
      ]
     },
     "execution_count": 18,
     "metadata": {},
     "output_type": "execute_result"
    },
    {
     "data": {
      "image/png": "[encoded data removed]",
      "text/plain": [
       "<matplotlib.figure.Figure at 0x7fcf0c978080>"
      ]
     },
     "metadata": {},
     "output_type": "display_data"
    }
   ],
   "source": [
    "#Explore schools with low SAT Scores and high hispanic_per\n",
    "combined.plot.scatter(x='hispanic_per', y='sat_score')"
   ]
  },
  {
   "cell_type": "markdown",
   "metadata": {},
   "source": [
    "Looks like there a number of high performing schools where the hispanic student percentage is less then 35%, with the highest performers having less than 10%"
   ]
  },
  {
   "cell_type": "code",
   "execution_count": 19,
   "metadata": {
    "collapsed": false
   },
   "outputs": [
    {
     "data": {
      "text/plain": [
       "44                         Manhattan Bridges High School\n",
       "82      Washington Heights Expeditionary Learning School\n",
       "89     Gregorio Luperon High School for Science and M...\n",
       "125                  Academy for Language and Technology\n",
       "141                International School for Liberal Arts\n",
       "176     Pan American International High School at Monroe\n",
       "253                            Multicultural High School\n",
       "286               Pan American International High School\n",
       "Name: school_name, dtype: object"
      ]
     },
     "execution_count": 19,
     "metadata": {},
     "output_type": "execute_result"
    }
   ],
   "source": [
    "#Pull schools where hispanic_per > 95%\n",
    "high_hispanic = combined[combined['hispanic_per'] > 95]\n",
    "high_hispanic['school_name']"
   ]
  },
  {
   "cell_type": "markdown",
   "metadata": {},
   "source": [
    "It looks like the schools where the hispanic percentage is very high, tends to be schools that service a diverse community. Resources may be sparse and students may be first-generation and come from immigrant families who may be concurrently learning English ASL. "
   ]
  },
  {
   "cell_type": "code",
   "execution_count": 20,
   "metadata": {
    "collapsed": false
   },
   "outputs": [
    {
     "data": {
      "text/plain": [
       "37                                Stuyvesant High School\n",
       "151                         Bronx High School of Science\n",
       "187                       Brooklyn Technical High School\n",
       "327    Queens High School for the Sciences at York Co...\n",
       "356                  Staten Island Technical High School\n",
       "Name: school_name, dtype: object"
      ]
     },
     "execution_count": 20,
     "metadata": {},
     "output_type": "execute_result"
    }
   ],
   "source": [
    "#Pull schools where hispanic_per < 10% and sat_score > 1800\n",
    "low_hispanic = combined[combined['hispanic_per'] < 10]\n",
    "low_hispanic = low_hispanic[low_hispanic['sat_score'] > 1800]\n",
    "low_hispanic['school_name']"
   ]
  },
  {
   "cell_type": "markdown",
   "metadata": {},
   "source": [
    "It looks like many of these schools specialize in gifted students or those that specialize in STEM subjects, that would benefit and correlate with high performing students (who test well). While not specific to hispanic_per, it does give insight into types of schools and who and who doesn't attend. "
   ]
  },
  {
   "cell_type": "markdown",
   "metadata": {},
   "source": [
    "## Exploring Gender and SAT Scores\n",
    "\n",
    "Let's now look at the relationship between gender and scores.\n",
    "\n",
    "Two columns indicate the percentage of each gender at a school:\n",
    "\n",
    "- male_per\n",
    "- female_per\n",
    "\n",
    "Let's plot the correlations "
   ]
  },
  {
   "cell_type": "code",
   "execution_count": 21,
   "metadata": {
    "collapsed": false
   },
   "outputs": [
    {
     "data": {
      "text/plain": [
       "<matplotlib.axes._subplots.AxesSubplot at 0x7fcf0d48b5c0>"
      ]
     },
     "execution_count": 21,
     "metadata": {},
     "output_type": "execute_result"
    },
    {
     "data": {
      "image/png": "[encoded data removed]",
      "text/plain": [
       "<matplotlib.figure.Figure at 0x7fcf0d47a0b8>"
      ]
     },
     "metadata": {},
     "output_type": "display_data"
    }
   ],
   "source": [
    "#Make a bar plot of correlations for gender\n",
    "\n",
    "gender_cols = ['male_per',\n",
    "              'female_per'\n",
    "              ]\n",
    "\n",
    "combined.corr()['sat_score'][gender_cols].plot.bar()\n"
   ]
  },
  {
   "cell_type": "markdown",
   "metadata": {},
   "source": [
    "While not as strong of correlations, it looks like schools with higher female populations have higher test scores, perhaps highlighting females perform better on tests then male populations. \n",
    "\n",
    "Let's investigate further"
   ]
  },
  {
   "cell_type": "code",
   "execution_count": 22,
   "metadata": {
    "collapsed": false
   },
   "outputs": [
    {
     "data": {
      "image/png": "[encoded data removed]",
      "text/plain": [
       "<matplotlib.figure.Figure at 0x7fcf0c804d30>"
      ]
     },
     "metadata": {},
     "output_type": "display_data"
    }
   ],
   "source": [
    "#Scatter plot for female_per and sat_score\n",
    "combined.plot.scatter(x='female_per', y='sat_score')\n",
    "plt.show()"
   ]
  },
  {
   "cell_type": "markdown",
   "metadata": {},
   "source": [
    "The scatter plot shows a weak  to no correlation, but it looks like a few high performing schools where the female_per is more than 50% have scores higher than 1600."
   ]
  },
  {
   "cell_type": "code",
   "execution_count": 23,
   "metadata": {
    "collapsed": false
   },
   "outputs": [
    {
     "data": {
      "text/plain": [
       "5                         Bard High School Early College\n",
       "26                         Eleanor Roosevelt High School\n",
       "60                                    Beacon High School\n",
       "61     Fiorello H. LaGuardia High School of Music & A...\n",
       "302                          Townsend Harris High School\n",
       "Name: school_name, dtype: object"
      ]
     },
     "execution_count": 23,
     "metadata": {},
     "output_type": "execute_result"
    }
   ],
   "source": [
    "#Research schools where female_per is > 60% an SAT > 1700\n",
    "high_female = combined[combined['female_per'] > 60]\n",
    "high_female = high_female[high_female['sat_score'] > 1700] \n",
    "high_female['school_name']"
   ]
  },
  {
   "cell_type": "markdown",
   "metadata": {},
   "source": [
    "Looking at the above high performing and female heavy schools, they tend to be in Manhatten with a good amount of resources and a strong demeanor towwards college prep - being selective liberal arts schools with high academic standards."
   ]
  },
  {
   "cell_type": "markdown",
   "metadata": {},
   "source": [
    "## Exploring AP Scores vs. SAT Scores\n",
    "\n",
    "Finally, let's explore the relationship between AP Test Scores and sat_scores. Based on AP Classes being made to simulate the rigor of college level coursework, it would make sense to see a postive relationship between those who performed well on those exams and the SAT. \n",
    "\n",
    "Let's look at the percentage of students in each school who took at least 1 AP Exam."
   ]
  },
  {
   "cell_type": "code",
   "execution_count": 24,
   "metadata": {
    "collapsed": false
   },
   "outputs": [
    {
     "data": {
      "text/plain": [
       "0    0.305756\n",
       "1    0.098985\n",
       "2    0.031773\n",
       "3    0.351577\n",
       "4    0.158091\n",
       "Name: ap_per, dtype: float64"
      ]
     },
     "execution_count": 24,
     "metadata": {},
     "output_type": "execute_result"
    }
   ],
   "source": [
    "#Calculate percentage of students in each school that took an AP Exam\n",
    "combined['ap_per'] = combined['AP Test Takers '] / combined['total_enrollment']\n",
    "combined['ap_per'].head()"
   ]
  },
  {
   "cell_type": "code",
   "execution_count": 25,
   "metadata": {
    "collapsed": false
   },
   "outputs": [
    {
     "data": {
      "text/plain": [
       "<matplotlib.axes._subplots.AxesSubplot at 0x7fcf0d4bd898>"
      ]
     },
     "execution_count": 25,
     "metadata": {},
     "output_type": "execute_result"
    },
    {
     "data": {
      "image/png": "[encoded data removed]",
      "text/plain": [
       "<matplotlib.figure.Figure at 0x7fcf0d4654a8>"
      ]
     },
     "metadata": {},
     "output_type": "display_data"
    }
   ],
   "source": [
    "#Scatter plot of ap_per vs. sat_score\n",
    "combined.plot.scatter(x='ap_per', y='sat_score')"
   ]
  },
  {
   "cell_type": "code",
   "execution_count": 26,
   "metadata": {
    "collapsed": false,
    "scrolled": true
   },
   "outputs": [
    {
     "data": {
      "text/plain": [
       "0.05717081390766967"
      ]
     },
     "execution_count": 26,
     "metadata": {},
     "output_type": "execute_result"
    }
   ],
   "source": [
    "combined.corr()['sat_score']['ap_per']"
   ]
  },
  {
   "cell_type": "markdown",
   "metadata": {},
   "source": [
    "It looks like there is a slight positive correlation between those schools with AP Test Takers and SAT Score. Calculating the actual correlation, it's fairly small."
   ]
  },
  {
   "cell_type": "markdown",
   "metadata": {},
   "source": [
    "## Exploring Class Size and SAT Scores"
   ]
  },
  {
   "cell_type": "code",
   "execution_count": 27,
   "metadata": {
    "collapsed": false
   },
   "outputs": [
    {
     "data": {
      "text/html": [
       "<div>\n",
       "<style scoped>\n",
       "    .dataframe tbody tr th:only-of-type {\n",
       "        vertical-align: middle;\n",
       "    }\n",
       "\n",
       "    .dataframe tbody tr th {\n",
       "        vertical-align: top;\n",
       "    }\n",
       "\n",
       "    .dataframe thead th {\n",
       "        text-align: right;\n",
       "    }\n",
       "</style>\n",
       "<table border=\"1\" class=\"dataframe\">\n",
       "  <thead>\n",
       "    <tr style=\"text-align: right;\">\n",
       "      <th></th>\n",
       "      <th>DBN</th>\n",
       "      <th>SCHOOL NAME</th>\n",
       "      <th>Num of SAT Test Takers</th>\n",
       "      <th>SAT Critical Reading Avg. Score</th>\n",
       "      <th>SAT Math Avg. Score</th>\n",
       "      <th>SAT Writing Avg. Score</th>\n",
       "      <th>sat_score</th>\n",
       "      <th>SchoolName</th>\n",
       "      <th>AP Test Takers</th>\n",
       "      <th>Total Exams Taken</th>\n",
       "      <th>Number of Exams with scores 3 4 or 5</th>\n",
       "      <th>Demographic</th>\n",
       "      <th>School Name</th>\n",
       "      <th>Cohort</th>\n",
       "      <th>Total Cohort</th>\n",
       "      <th>Total Grads - n</th>\n",
       "      <th>Total Grads - % of cohort</th>\n",
       "      <th>Total Regents - n</th>\n",
       "      <th>Total Regents - % of cohort</th>\n",
       "      <th>Total Regents - % of grads</th>\n",
       "      <th>Advanced Regents - n</th>\n",
       "      <th>Advanced Regents - % of cohort</th>\n",
       "      <th>Advanced Regents - % of grads</th>\n",
       "      <th>Regents w/o Advanced - n</th>\n",
       "      <th>Regents w/o Advanced - % of cohort</th>\n",
       "      <th>Regents w/o Advanced - % of grads</th>\n",
       "      <th>Local - n</th>\n",
       "      <th>Local - % of cohort</th>\n",
       "      <th>Local - % of grads</th>\n",
       "      <th>Still Enrolled - n</th>\n",
       "      <th>Still Enrolled - % of cohort</th>\n",
       "      <th>Dropped Out - n</th>\n",
       "      <th>Dropped Out - % of cohort</th>\n",
       "      <th>CSD</th>\n",
       "      <th>NUMBER OF STUDENTS / SEATS FILLED</th>\n",
       "      <th>NUMBER OF SECTIONS</th>\n",
       "      <th>AVERAGE CLASS SIZE</th>\n",
       "      <th>SIZE OF SMALLEST CLASS</th>\n",
       "      <th>SIZE OF LARGEST CLASS</th>\n",
       "      <th>SCHOOLWIDE PUPIL-TEACHER RATIO</th>\n",
       "      <th>Name</th>\n",
       "      <th>schoolyear</th>\n",
       "      <th>fl_percent</th>\n",
       "      <th>frl_percent</th>\n",
       "      <th>total_enrollment</th>\n",
       "      <th>prek</th>\n",
       "      <th>k</th>\n",
       "      <th>grade1</th>\n",
       "      <th>grade2</th>\n",
       "      <th>grade3</th>\n",
       "      <th>grade4</th>\n",
       "      <th>grade5</th>\n",
       "      <th>grade6</th>\n",
       "      <th>grade7</th>\n",
       "      <th>grade8</th>\n",
       "      <th>grade9</th>\n",
       "      <th>grade10</th>\n",
       "      <th>grade11</th>\n",
       "      <th>grade12</th>\n",
       "      <th>ell_num</th>\n",
       "      <th>ell_percent</th>\n",
       "      <th>sped_num</th>\n",
       "      <th>sped_percent</th>\n",
       "      <th>ctt_num</th>\n",
       "      <th>selfcontained_num</th>\n",
       "      <th>asian_num</th>\n",
       "      <th>asian_per</th>\n",
       "      <th>black_num</th>\n",
       "      <th>black_per</th>\n",
       "      <th>hispanic_num</th>\n",
       "      <th>hispanic_per</th>\n",
       "      <th>white_num</th>\n",
       "      <th>white_per</th>\n",
       "      <th>male_num</th>\n",
       "      <th>male_per</th>\n",
       "      <th>female_num</th>\n",
       "      <th>female_per</th>\n",
       "      <th>rr_s</th>\n",
       "      <th>rr_t</th>\n",
       "      <th>rr_p</th>\n",
       "      <th>N_s</th>\n",
       "      <th>N_t</th>\n",
       "      <th>N_p</th>\n",
       "      <th>saf_p_11</th>\n",
       "      <th>com_p_11</th>\n",
       "      <th>eng_p_11</th>\n",
       "      <th>aca_p_11</th>\n",
       "      <th>saf_t_11</th>\n",
       "      <th>com_t_11</th>\n",
       "      <th>eng_t_11</th>\n",
       "      <th>aca_t_11</th>\n",
       "      <th>saf_s_11</th>\n",
       "      <th>com_s_11</th>\n",
       "      <th>eng_s_11</th>\n",
       "      <th>aca_s_11</th>\n",
       "      <th>saf_tot_11</th>\n",
       "      <th>com_tot_11</th>\n",
       "      <th>eng_tot_11</th>\n",
       "      <th>aca_tot_11</th>\n",
       "      <th>dbn</th>\n",
       "      <th>school_name</th>\n",
       "      <th>boro</th>\n",
       "      <th>building_code</th>\n",
       "      <th>phone_number</th>\n",
       "      <th>fax_number</th>\n",
       "      <th>grade_span_min</th>\n",
       "      <th>grade_span_max</th>\n",
       "      <th>expgrade_span_min</th>\n",
       "      <th>expgrade_span_max</th>\n",
       "      <th>bus</th>\n",
       "      <th>subway</th>\n",
       "      <th>primary_address_line_1</th>\n",
       "      <th>city</th>\n",
       "      <th>state_code</th>\n",
       "      <th>zip</th>\n",
       "      <th>website</th>\n",
       "      <th>total_students</th>\n",
       "      <th>campus_name</th>\n",
       "      <th>school_type</th>\n",
       "      <th>overview_paragraph</th>\n",
       "      <th>program_highlights</th>\n",
       "      <th>language_classes</th>\n",
       "      <th>advancedplacement_courses</th>\n",
       "      <th>online_ap_courses</th>\n",
       "      <th>online_language_courses</th>\n",
       "      <th>extracurricular_activities</th>\n",
       "      <th>psal_sports_boys</th>\n",
       "      <th>psal_sports_girls</th>\n",
       "      <th>psal_sports_coed</th>\n",
       "      <th>school_sports</th>\n",
       "      <th>partner_cbo</th>\n",
       "      <th>partner_hospital</th>\n",
       "      <th>partner_highered</th>\n",
       "      <th>partner_cultural</th>\n",
       "      <th>partner_nonprofit</th>\n",
       "      <th>partner_corporate</th>\n",
       "      <th>partner_financial</th>\n",
       "      <th>partner_other</th>\n",
       "      <th>addtl_info1</th>\n",
       "      <th>addtl_info2</th>\n",
       "      <th>start_time</th>\n",
       "      <th>end_time</th>\n",
       "      <th>se_services</th>\n",
       "      <th>ell_programs</th>\n",
       "      <th>school_accessibility_description</th>\n",
       "      <th>number_programs</th>\n",
       "      <th>priority01</th>\n",
       "      <th>priority02</th>\n",
       "      <th>priority03</th>\n",
       "      <th>priority04</th>\n",
       "      <th>priority05</th>\n",
       "      <th>priority06</th>\n",
       "      <th>priority07</th>\n",
       "      <th>priority08</th>\n",
       "      <th>priority09</th>\n",
       "      <th>priority10</th>\n",
       "      <th>Location 1</th>\n",
       "      <th>lat</th>\n",
       "      <th>lon</th>\n",
       "      <th>school_dist</th>\n",
       "      <th>ap_per</th>\n",
       "    </tr>\n",
       "  </thead>\n",
       "  <tbody>\n",
       "    <tr>\n",
       "      <th>0</th>\n",
       "      <td>01M292</td>\n",
       "      <td>HENRY STREET SCHOOL FOR INTERNATIONAL STUDIES</td>\n",
       "      <td>29</td>\n",
       "      <td>355.0</td>\n",
       "      <td>404.0</td>\n",
       "      <td>363.0</td>\n",
       "      <td>1122.0</td>\n",
       "      <td>0</td>\n",
       "      <td>129.028846</td>\n",
       "      <td>197.038462</td>\n",
       "      <td>153.45</td>\n",
       "      <td>Total Cohort</td>\n",
       "      <td>HENRY STREET SCHOOL FOR INTERNATIONAL</td>\n",
       "      <td>2006</td>\n",
       "      <td>78.0</td>\n",
       "      <td>43</td>\n",
       "      <td>55.1%</td>\n",
       "      <td>36</td>\n",
       "      <td>46.2%</td>\n",
       "      <td>83.7%</td>\n",
       "      <td>0</td>\n",
       "      <td>0%</td>\n",
       "      <td>0%</td>\n",
       "      <td>36</td>\n",
       "      <td>46.2%</td>\n",
       "      <td>83.7%</td>\n",
       "      <td>7</td>\n",
       "      <td>9%</td>\n",
       "      <td>16.3%</td>\n",
       "      <td>16</td>\n",
       "      <td>20.5%</td>\n",
       "      <td>11</td>\n",
       "      <td>14.1%</td>\n",
       "      <td>1</td>\n",
       "      <td>88.000000</td>\n",
       "      <td>4.000000</td>\n",
       "      <td>22.564286</td>\n",
       "      <td>18.500000</td>\n",
       "      <td>26.571429</td>\n",
       "      <td>0.0</td>\n",
       "      <td>HENRY STREET SCHOOL FOR INTERNATIONAL STUDIES</td>\n",
       "      <td>20112012</td>\n",
       "      <td>0</td>\n",
       "      <td>88.6</td>\n",
       "      <td>422</td>\n",
       "      <td></td>\n",
       "      <td></td>\n",
       "      <td></td>\n",
       "      <td></td>\n",
       "      <td></td>\n",
       "      <td></td>\n",
       "      <td></td>\n",
       "      <td>32</td>\n",
       "      <td>33</td>\n",
       "      <td>50</td>\n",
       "      <td>98</td>\n",
       "      <td>79</td>\n",
       "      <td>80</td>\n",
       "      <td>50</td>\n",
       "      <td>94.0</td>\n",
       "      <td>22.3</td>\n",
       "      <td>105.0</td>\n",
       "      <td>24.9</td>\n",
       "      <td>34</td>\n",
       "      <td>35</td>\n",
       "      <td>59</td>\n",
       "      <td>14.0</td>\n",
       "      <td>123</td>\n",
       "      <td>29.1</td>\n",
       "      <td>227</td>\n",
       "      <td>53.8</td>\n",
       "      <td>7</td>\n",
       "      <td>1.7</td>\n",
       "      <td>259.0</td>\n",
       "      <td>61.4</td>\n",
       "      <td>163.0</td>\n",
       "      <td>38.6</td>\n",
       "      <td>89.0</td>\n",
       "      <td>70</td>\n",
       "      <td>39</td>\n",
       "      <td>379.000000</td>\n",
       "      <td>26.0</td>\n",
       "      <td>151.0</td>\n",
       "      <td>7.8</td>\n",
       "      <td>7.7</td>\n",
       "      <td>7.4</td>\n",
       "      <td>7.6</td>\n",
       "      <td>6.3</td>\n",
       "      <td>5.3</td>\n",
       "      <td>6.1</td>\n",
       "      <td>6.5</td>\n",
       "      <td>6.000000</td>\n",
       "      <td>5.600000</td>\n",
       "      <td>6.100000</td>\n",
       "      <td>6.700000</td>\n",
       "      <td>6.7</td>\n",
       "      <td>6.2</td>\n",
       "      <td>6.6</td>\n",
       "      <td>7.0</td>\n",
       "      <td>01M292</td>\n",
       "      <td>Henry Street School for International Studies</td>\n",
       "      <td>Manhattan</td>\n",
       "      <td>M056</td>\n",
       "      <td>212-406-9411</td>\n",
       "      <td>212-406-9417</td>\n",
       "      <td>6</td>\n",
       "      <td>12</td>\n",
       "      <td>0</td>\n",
       "      <td>12.0</td>\n",
       "      <td>B39, M14A, M14D, M15, M15-SBS, M21, M22, M9</td>\n",
       "      <td>B, D to Grand St ; F to East Broadway ; J, M, ...</td>\n",
       "      <td>220 Henry Street</td>\n",
       "      <td>New York</td>\n",
       "      <td>NY</td>\n",
       "      <td>10002</td>\n",
       "      <td>http://schools.nyc.gov/schoolportals/01/M292</td>\n",
       "      <td>323.0</td>\n",
       "      <td>0</td>\n",
       "      <td>0</td>\n",
       "      <td>Henry Street School for International Studies ...</td>\n",
       "      <td>Global/International Studies in core subjects,...</td>\n",
       "      <td>Chinese (Mandarin), Spanish</td>\n",
       "      <td>Psychology</td>\n",
       "      <td>Chinese Language and Culture, Spanish Literatu...</td>\n",
       "      <td>Chinese (Mandarin), Spanish</td>\n",
       "      <td>Math through Card Play; Art, Poetry/Spoken Wor...</td>\n",
       "      <td>Basketball</td>\n",
       "      <td>Softball</td>\n",
       "      <td>Soccer</td>\n",
       "      <td>Boxing, Track, CHAMPS, Tennis, Flag Football, ...</td>\n",
       "      <td>The Henry Street Settlement; Asia Society; Ame...</td>\n",
       "      <td>Gouverneur Hospital (Turning Points)</td>\n",
       "      <td>New York University</td>\n",
       "      <td>Asia Society</td>\n",
       "      <td>Heart of America Foundation</td>\n",
       "      <td>0</td>\n",
       "      <td>0</td>\n",
       "      <td>United Nations</td>\n",
       "      <td>0</td>\n",
       "      <td>0</td>\n",
       "      <td>8:30 AM</td>\n",
       "      <td>3:30 PM</td>\n",
       "      <td>This school will provide students with disabil...</td>\n",
       "      <td>ESL</td>\n",
       "      <td>Functionally Accessible</td>\n",
       "      <td>1</td>\n",
       "      <td>Priority to continuing 8th graders</td>\n",
       "      <td>Then to Manhattan students or residents who at...</td>\n",
       "      <td>Then to New York City residents who attend an ...</td>\n",
       "      <td>Then to Manhattan students or residents</td>\n",
       "      <td>Then to New York City residents</td>\n",
       "      <td>0</td>\n",
       "      <td>0</td>\n",
       "      <td>0</td>\n",
       "      <td>0</td>\n",
       "      <td>0</td>\n",
       "      <td>220 Henry Street\\nNew York, NY 10002\\n(40.7137...</td>\n",
       "      <td>40.713764</td>\n",
       "      <td>-73.985260</td>\n",
       "      <td>01</td>\n",
       "      <td>0.305756</td>\n",
       "    </tr>\n",
       "    <tr>\n",
       "      <th>1</th>\n",
       "      <td>01M448</td>\n",
       "      <td>UNIVERSITY NEIGHBORHOOD HIGH SCHOOL</td>\n",
       "      <td>91</td>\n",
       "      <td>383.0</td>\n",
       "      <td>423.0</td>\n",
       "      <td>366.0</td>\n",
       "      <td>1172.0</td>\n",
       "      <td>UNIVERSITY NEIGHBORHOOD H.S.</td>\n",
       "      <td>39.000000</td>\n",
       "      <td>49.000000</td>\n",
       "      <td>10.00</td>\n",
       "      <td>Total Cohort</td>\n",
       "      <td>UNIVERSITY NEIGHBORHOOD HIGH SCHOOL</td>\n",
       "      <td>2006</td>\n",
       "      <td>124.0</td>\n",
       "      <td>53</td>\n",
       "      <td>42.7%</td>\n",
       "      <td>42</td>\n",
       "      <td>33.9%</td>\n",
       "      <td>79.2%</td>\n",
       "      <td>8</td>\n",
       "      <td>6.5%</td>\n",
       "      <td>15.1%</td>\n",
       "      <td>34</td>\n",
       "      <td>27.4%</td>\n",
       "      <td>64.2%</td>\n",
       "      <td>11</td>\n",
       "      <td>8.9%</td>\n",
       "      <td>20.8%</td>\n",
       "      <td>46</td>\n",
       "      <td>37.1%</td>\n",
       "      <td>20</td>\n",
       "      <td>16.100000000000001%</td>\n",
       "      <td>1</td>\n",
       "      <td>105.687500</td>\n",
       "      <td>4.750000</td>\n",
       "      <td>22.231250</td>\n",
       "      <td>18.250000</td>\n",
       "      <td>27.062500</td>\n",
       "      <td>0.0</td>\n",
       "      <td>UNIVERSITY NEIGHBORHOOD HIGH SCHOOL</td>\n",
       "      <td>20112012</td>\n",
       "      <td>0</td>\n",
       "      <td>71.8</td>\n",
       "      <td>394</td>\n",
       "      <td></td>\n",
       "      <td></td>\n",
       "      <td></td>\n",
       "      <td></td>\n",
       "      <td></td>\n",
       "      <td></td>\n",
       "      <td></td>\n",
       "      <td></td>\n",
       "      <td></td>\n",
       "      <td></td>\n",
       "      <td>109</td>\n",
       "      <td>97</td>\n",
       "      <td>93</td>\n",
       "      <td>95</td>\n",
       "      <td>83.0</td>\n",
       "      <td>21.1</td>\n",
       "      <td>86.0</td>\n",
       "      <td>21.8</td>\n",
       "      <td>55</td>\n",
       "      <td>10</td>\n",
       "      <td>115</td>\n",
       "      <td>29.2</td>\n",
       "      <td>89</td>\n",
       "      <td>22.6</td>\n",
       "      <td>181</td>\n",
       "      <td>45.9</td>\n",
       "      <td>9</td>\n",
       "      <td>2.3</td>\n",
       "      <td>226.0</td>\n",
       "      <td>57.4</td>\n",
       "      <td>168.0</td>\n",
       "      <td>42.6</td>\n",
       "      <td>84.0</td>\n",
       "      <td>95</td>\n",
       "      <td>10</td>\n",
       "      <td>385.000000</td>\n",
       "      <td>37.0</td>\n",
       "      <td>46.0</td>\n",
       "      <td>7.9</td>\n",
       "      <td>7.4</td>\n",
       "      <td>7.2</td>\n",
       "      <td>7.3</td>\n",
       "      <td>6.6</td>\n",
       "      <td>5.8</td>\n",
       "      <td>6.6</td>\n",
       "      <td>7.3</td>\n",
       "      <td>6.000000</td>\n",
       "      <td>5.700000</td>\n",
       "      <td>6.300000</td>\n",
       "      <td>7.000000</td>\n",
       "      <td>6.8</td>\n",
       "      <td>6.3</td>\n",
       "      <td>6.7</td>\n",
       "      <td>7.2</td>\n",
       "      <td>01M448</td>\n",
       "      <td>University Neighborhood High School</td>\n",
       "      <td>Manhattan</td>\n",
       "      <td>M446</td>\n",
       "      <td>212-962-4341</td>\n",
       "      <td>212-267-5611</td>\n",
       "      <td>9</td>\n",
       "      <td>12</td>\n",
       "      <td>0</td>\n",
       "      <td>12.0</td>\n",
       "      <td>M14A, M14D, M15, M21, M22, M9</td>\n",
       "      <td>F to East Broadway ; J, M, Z to Delancey St-Es...</td>\n",
       "      <td>200 Monroe Street</td>\n",
       "      <td>New York</td>\n",
       "      <td>NY</td>\n",
       "      <td>10002</td>\n",
       "      <td>www.universityneighborhoodhs.com</td>\n",
       "      <td>299.0</td>\n",
       "      <td>0</td>\n",
       "      <td>0</td>\n",
       "      <td>University Neighborhood High School (UNHS) is ...</td>\n",
       "      <td>While attending UNHS, students can earn up to ...</td>\n",
       "      <td>Chinese, Spanish</td>\n",
       "      <td>Calculus AB, Chinese Language and Culture, Eng...</td>\n",
       "      <td>0</td>\n",
       "      <td>Chinese (Cantonese), Chinese (Mandarin), Spanish</td>\n",
       "      <td>Basketball, Badminton, Handball, Glee, Dance, ...</td>\n",
       "      <td>Baseball, Basketball, Bowling, Cross Country, ...</td>\n",
       "      <td>Basketball, Bowling, Cross Country, Softball, ...</td>\n",
       "      <td>0</td>\n",
       "      <td>0</td>\n",
       "      <td>Grand Street Settlement, Henry Street Settleme...</td>\n",
       "      <td>Gouverneur Hospital, The Door, The Mount Sinai...</td>\n",
       "      <td>New York University, CUNY Baruch College, Pars...</td>\n",
       "      <td>Dance Film Association, Dance Makers Film Work...</td>\n",
       "      <td>W!SE, Big Brothers Big Sisters, Peer Health Ex...</td>\n",
       "      <td>Deloitte LLP Consulting and Financial Services...</td>\n",
       "      <td>0</td>\n",
       "      <td>Movement Research</td>\n",
       "      <td>Incoming students are expected to attend schoo...</td>\n",
       "      <td>Community Service Requirement, Dress Code Requ...</td>\n",
       "      <td>8:15 AM</td>\n",
       "      <td>3:15 PM</td>\n",
       "      <td>This school will provide students with disabil...</td>\n",
       "      <td>ESL</td>\n",
       "      <td>Not Functionally Accessible</td>\n",
       "      <td>3</td>\n",
       "      <td>Open to New York City residents</td>\n",
       "      <td>For M35B only: Open only to students whose hom...</td>\n",
       "      <td>0</td>\n",
       "      <td>0</td>\n",
       "      <td>0</td>\n",
       "      <td>0</td>\n",
       "      <td>0</td>\n",
       "      <td>0</td>\n",
       "      <td>0</td>\n",
       "      <td>0</td>\n",
       "      <td>200 Monroe Street\\nNew York, NY 10002\\n(40.712...</td>\n",
       "      <td>40.712332</td>\n",
       "      <td>-73.984797</td>\n",
       "      <td>01</td>\n",
       "      <td>0.098985</td>\n",
       "    </tr>\n",
       "    <tr>\n",
       "      <th>2</th>\n",
       "      <td>01M450</td>\n",
       "      <td>EAST SIDE COMMUNITY SCHOOL</td>\n",
       "      <td>70</td>\n",
       "      <td>377.0</td>\n",
       "      <td>402.0</td>\n",
       "      <td>370.0</td>\n",
       "      <td>1149.0</td>\n",
       "      <td>EAST SIDE COMMUNITY HS</td>\n",
       "      <td>19.000000</td>\n",
       "      <td>21.000000</td>\n",
       "      <td>153.45</td>\n",
       "      <td>Total Cohort</td>\n",
       "      <td>EAST SIDE COMMUNITY SCHOOL</td>\n",
       "      <td>2006</td>\n",
       "      <td>90.0</td>\n",
       "      <td>70</td>\n",
       "      <td>77.8%</td>\n",
       "      <td>67</td>\n",
       "      <td>74.400000000000006%</td>\n",
       "      <td>95.7%</td>\n",
       "      <td>0</td>\n",
       "      <td>0%</td>\n",
       "      <td>0%</td>\n",
       "      <td>67</td>\n",
       "      <td>74.400000000000006%</td>\n",
       "      <td>95.7%</td>\n",
       "      <td>3</td>\n",
       "      <td>3.3%</td>\n",
       "      <td>4.3%</td>\n",
       "      <td>15</td>\n",
       "      <td>16.7%</td>\n",
       "      <td>5</td>\n",
       "      <td>5.6%</td>\n",
       "      <td>1</td>\n",
       "      <td>57.600000</td>\n",
       "      <td>2.733333</td>\n",
       "      <td>21.200000</td>\n",
       "      <td>19.400000</td>\n",
       "      <td>22.866667</td>\n",
       "      <td>0.0</td>\n",
       "      <td>EAST SIDE COMMUNITY HIGH SCHOOL</td>\n",
       "      <td>20112012</td>\n",
       "      <td>0</td>\n",
       "      <td>71.8</td>\n",
       "      <td>598</td>\n",
       "      <td></td>\n",
       "      <td></td>\n",
       "      <td></td>\n",
       "      <td></td>\n",
       "      <td></td>\n",
       "      <td></td>\n",
       "      <td></td>\n",
       "      <td>92</td>\n",
       "      <td>73</td>\n",
       "      <td>76</td>\n",
       "      <td>101</td>\n",
       "      <td>93</td>\n",
       "      <td>77</td>\n",
       "      <td>86</td>\n",
       "      <td>30.0</td>\n",
       "      <td>5.0</td>\n",
       "      <td>158.0</td>\n",
       "      <td>26.4</td>\n",
       "      <td>91</td>\n",
       "      <td>19</td>\n",
       "      <td>58</td>\n",
       "      <td>9.7</td>\n",
       "      <td>143</td>\n",
       "      <td>23.9</td>\n",
       "      <td>331</td>\n",
       "      <td>55.4</td>\n",
       "      <td>62</td>\n",
       "      <td>10.4</td>\n",
       "      <td>327.0</td>\n",
       "      <td>54.7</td>\n",
       "      <td>271.0</td>\n",
       "      <td>45.3</td>\n",
       "      <td>0.0</td>\n",
       "      <td>98</td>\n",
       "      <td>28</td>\n",
       "      <td>598.208333</td>\n",
       "      <td>42.0</td>\n",
       "      <td>150.0</td>\n",
       "      <td>8.7</td>\n",
       "      <td>8.2</td>\n",
       "      <td>8.1</td>\n",
       "      <td>8.4</td>\n",
       "      <td>7.3</td>\n",
       "      <td>8.0</td>\n",
       "      <td>8.0</td>\n",
       "      <td>8.8</td>\n",
       "      <td>6.611667</td>\n",
       "      <td>6.094722</td>\n",
       "      <td>6.620278</td>\n",
       "      <td>7.381389</td>\n",
       "      <td>7.9</td>\n",
       "      <td>7.9</td>\n",
       "      <td>7.9</td>\n",
       "      <td>8.4</td>\n",
       "      <td>01M450</td>\n",
       "      <td>East Side Community School</td>\n",
       "      <td>Manhattan</td>\n",
       "      <td>M060</td>\n",
       "      <td>212-460-8467</td>\n",
       "      <td>212-260-9657</td>\n",
       "      <td>6</td>\n",
       "      <td>12</td>\n",
       "      <td>0</td>\n",
       "      <td>12.0</td>\n",
       "      <td>M101, M102, M103, M14A, M14D, M15, M15-SBS, M2...</td>\n",
       "      <td>6 to Astor Place ; L to 1st Ave</td>\n",
       "      <td>420 East 12 Street</td>\n",
       "      <td>New York</td>\n",
       "      <td>NY</td>\n",
       "      <td>10009</td>\n",
       "      <td>www.eschs.org</td>\n",
       "      <td>649.0</td>\n",
       "      <td>0</td>\n",
       "      <td>Consortium School</td>\n",
       "      <td>We are a small 6-12 secondary school that prep...</td>\n",
       "      <td>Our Advisory System ensures that we can effect...</td>\n",
       "      <td>0</td>\n",
       "      <td>Calculus AB, English Literature and Composition</td>\n",
       "      <td>0</td>\n",
       "      <td>American Sign Language, Arabic, Chinese (Manda...</td>\n",
       "      <td>After-School Tutoring, Art Portfolio Classes, ...</td>\n",
       "      <td>Baseball, Basketball, Soccer</td>\n",
       "      <td>Basketball, Soccer, Softball</td>\n",
       "      <td>0</td>\n",
       "      <td>Basketball, Bicycling, Fitness, Flag Football,...</td>\n",
       "      <td>University Settlement, Big Brothers Big Sister...</td>\n",
       "      <td>0</td>\n",
       "      <td>Columbia Teachers College, New York University...</td>\n",
       "      <td>, Internship Program, Loisaida Art Gallery loc...</td>\n",
       "      <td>College Bound Initiative, Center for Collabora...</td>\n",
       "      <td>Prudential Securities, Moore Capital, Morgan S...</td>\n",
       "      <td>0</td>\n",
       "      <td>Brooklyn Boulders (Rock Climbing)</td>\n",
       "      <td>Students present and defend their work to comm...</td>\n",
       "      <td>Our school requires an Academic Portfolio for ...</td>\n",
       "      <td>8:30 AM</td>\n",
       "      <td>3:30 PM</td>\n",
       "      <td>This school will provide students with disabil...</td>\n",
       "      <td>ESL</td>\n",
       "      <td>Not Functionally Accessible</td>\n",
       "      <td>1</td>\n",
       "      <td>Priority to continuing 8th graders</td>\n",
       "      <td>Then to New York City residents</td>\n",
       "      <td>0</td>\n",
       "      <td>0</td>\n",
       "      <td>0</td>\n",
       "      <td>0</td>\n",
       "      <td>0</td>\n",
       "      <td>0</td>\n",
       "      <td>0</td>\n",
       "      <td>0</td>\n",
       "      <td>420 East 12 Street\\nNew York, NY 10009\\n(40.72...</td>\n",
       "      <td>40.729783</td>\n",
       "      <td>-73.983041</td>\n",
       "      <td>01</td>\n",
       "      <td>0.031773</td>\n",
       "    </tr>\n",
       "    <tr>\n",
       "      <th>3</th>\n",
       "      <td>01M509</td>\n",
       "      <td>MARTA VALLE HIGH SCHOOL</td>\n",
       "      <td>44</td>\n",
       "      <td>390.0</td>\n",
       "      <td>433.0</td>\n",
       "      <td>384.0</td>\n",
       "      <td>1207.0</td>\n",
       "      <td>0</td>\n",
       "      <td>129.028846</td>\n",
       "      <td>197.038462</td>\n",
       "      <td>153.45</td>\n",
       "      <td>Total Cohort</td>\n",
       "      <td>MARTA VALLE HIGH SCHOOL</td>\n",
       "      <td>2006</td>\n",
       "      <td>84.0</td>\n",
       "      <td>47</td>\n",
       "      <td>56%</td>\n",
       "      <td>40</td>\n",
       "      <td>47.6%</td>\n",
       "      <td>85.1%</td>\n",
       "      <td>17</td>\n",
       "      <td>20.2%</td>\n",
       "      <td>36.200000000000003%</td>\n",
       "      <td>23</td>\n",
       "      <td>27.4%</td>\n",
       "      <td>48.9%</td>\n",
       "      <td>7</td>\n",
       "      <td>8.300000000000001%</td>\n",
       "      <td>14.9%</td>\n",
       "      <td>25</td>\n",
       "      <td>29.8%</td>\n",
       "      <td>5</td>\n",
       "      <td>6%</td>\n",
       "      <td>1</td>\n",
       "      <td>69.642857</td>\n",
       "      <td>3.000000</td>\n",
       "      <td>23.571429</td>\n",
       "      <td>20.000000</td>\n",
       "      <td>27.357143</td>\n",
       "      <td>0.0</td>\n",
       "      <td>MARTA VALLE SECONDARY SCHOOL</td>\n",
       "      <td>20112012</td>\n",
       "      <td>0</td>\n",
       "      <td>80.7</td>\n",
       "      <td>367</td>\n",
       "      <td></td>\n",
       "      <td></td>\n",
       "      <td></td>\n",
       "      <td></td>\n",
       "      <td></td>\n",
       "      <td></td>\n",
       "      <td></td>\n",
       "      <td></td>\n",
       "      <td></td>\n",
       "      <td></td>\n",
       "      <td>143</td>\n",
       "      <td>100</td>\n",
       "      <td>51</td>\n",
       "      <td>73</td>\n",
       "      <td>41.0</td>\n",
       "      <td>11.2</td>\n",
       "      <td>95.0</td>\n",
       "      <td>25.9</td>\n",
       "      <td>28</td>\n",
       "      <td>36</td>\n",
       "      <td>34</td>\n",
       "      <td>9.3</td>\n",
       "      <td>116</td>\n",
       "      <td>31.6</td>\n",
       "      <td>209</td>\n",
       "      <td>56.9</td>\n",
       "      <td>6</td>\n",
       "      <td>1.6</td>\n",
       "      <td>170.0</td>\n",
       "      <td>46.3</td>\n",
       "      <td>197.0</td>\n",
       "      <td>53.7</td>\n",
       "      <td>90.0</td>\n",
       "      <td>100</td>\n",
       "      <td>21</td>\n",
       "      <td>306.000000</td>\n",
       "      <td>29.0</td>\n",
       "      <td>69.0</td>\n",
       "      <td>7.7</td>\n",
       "      <td>7.4</td>\n",
       "      <td>7.2</td>\n",
       "      <td>7.3</td>\n",
       "      <td>6.4</td>\n",
       "      <td>5.3</td>\n",
       "      <td>6.1</td>\n",
       "      <td>6.8</td>\n",
       "      <td>6.400000</td>\n",
       "      <td>5.900000</td>\n",
       "      <td>6.400000</td>\n",
       "      <td>7.000000</td>\n",
       "      <td>6.9</td>\n",
       "      <td>6.2</td>\n",
       "      <td>6.6</td>\n",
       "      <td>7.0</td>\n",
       "      <td>01M509</td>\n",
       "      <td>Marta Valle High School</td>\n",
       "      <td>Manhattan</td>\n",
       "      <td>M025</td>\n",
       "      <td>212-473-8152</td>\n",
       "      <td>212-475-7588</td>\n",
       "      <td>9</td>\n",
       "      <td>12</td>\n",
       "      <td>0</td>\n",
       "      <td>12.0</td>\n",
       "      <td>B39, M103, M14A, M14D, M15, M15-SBS, M21, M22,...</td>\n",
       "      <td>B, D to Grand St ; F, J, M, Z to Delancey St-E...</td>\n",
       "      <td>145 Stanton Street</td>\n",
       "      <td>New York</td>\n",
       "      <td>NY</td>\n",
       "      <td>10002</td>\n",
       "      <td>www.martavalle.org</td>\n",
       "      <td>401.0</td>\n",
       "      <td>0</td>\n",
       "      <td>0</td>\n",
       "      <td>Marta Valle High School (MVHS) offers a strong...</td>\n",
       "      <td>Advanced Regents Diploma, Early Graduation, up...</td>\n",
       "      <td>French, Spanish</td>\n",
       "      <td>English Literature and Composition, Studio Art...</td>\n",
       "      <td>0</td>\n",
       "      <td>Spanish</td>\n",
       "      <td>Model Peer Leadership Program, 'The Vine' Stud...</td>\n",
       "      <td>Basketball, Rugby</td>\n",
       "      <td>Rugby, Volleyball</td>\n",
       "      <td>Rugby</td>\n",
       "      <td>Volleyball, Zumba</td>\n",
       "      <td>NYCDOE Innovation Zone Lab Site, Grand Street ...</td>\n",
       "      <td>Gouvenuer's Hospital</td>\n",
       "      <td>New York University (NYU), Sarah Lawrence Coll...</td>\n",
       "      <td>Young Audiences, The National Arts Club, Educa...</td>\n",
       "      <td>College for Every Student (CFES), Morningside ...</td>\n",
       "      <td>Estée Lauder</td>\n",
       "      <td>Bank of America</td>\n",
       "      <td>CASALEAP, Beacon</td>\n",
       "      <td>Students Dress for Success, Summer Bridge to S...</td>\n",
       "      <td>Community Service Requirement, Extended Day Pr...</td>\n",
       "      <td>8:00 AM</td>\n",
       "      <td>3:30 PM</td>\n",
       "      <td>This school will provide students with disabil...</td>\n",
       "      <td>ESL</td>\n",
       "      <td>Functionally Accessible</td>\n",
       "      <td>1</td>\n",
       "      <td>Priority to District 1 students or residents</td>\n",
       "      <td>Then to Manhattan students or residents</td>\n",
       "      <td>Then to New York City residents</td>\n",
       "      <td>0</td>\n",
       "      <td>0</td>\n",
       "      <td>0</td>\n",
       "      <td>0</td>\n",
       "      <td>0</td>\n",
       "      <td>0</td>\n",
       "      <td>0</td>\n",
       "      <td>145 Stanton Street\\nNew York, NY 10002\\n(40.72...</td>\n",
       "      <td>40.720569</td>\n",
       "      <td>-73.985673</td>\n",
       "      <td>01</td>\n",
       "      <td>0.351577</td>\n",
       "    </tr>\n",
       "    <tr>\n",
       "      <th>4</th>\n",
       "      <td>01M539</td>\n",
       "      <td>NEW EXPLORATIONS INTO SCIENCE, TECHNOLOGY AND ...</td>\n",
       "      <td>159</td>\n",
       "      <td>522.0</td>\n",
       "      <td>574.0</td>\n",
       "      <td>525.0</td>\n",
       "      <td>1621.0</td>\n",
       "      <td>NEW EXPLORATIONS SCI,TECH,MATH</td>\n",
       "      <td>255.000000</td>\n",
       "      <td>377.000000</td>\n",
       "      <td>191.00</td>\n",
       "      <td>Total Cohort</td>\n",
       "      <td>NEW EXPLORATIONS INTO SCIENCE  TECHNO</td>\n",
       "      <td>2006</td>\n",
       "      <td>46.0</td>\n",
       "      <td>46</td>\n",
       "      <td>100%</td>\n",
       "      <td>46</td>\n",
       "      <td>100%</td>\n",
       "      <td>100%</td>\n",
       "      <td>31</td>\n",
       "      <td>67.400000000000006%</td>\n",
       "      <td>67.400000000000006%</td>\n",
       "      <td>15</td>\n",
       "      <td>32.6%</td>\n",
       "      <td>32.6%</td>\n",
       "      <td>0</td>\n",
       "      <td>0%</td>\n",
       "      <td>0%</td>\n",
       "      <td>0</td>\n",
       "      <td>0%</td>\n",
       "      <td>0</td>\n",
       "      <td>0%</td>\n",
       "      <td>1</td>\n",
       "      <td>156.368421</td>\n",
       "      <td>6.157895</td>\n",
       "      <td>25.510526</td>\n",
       "      <td>19.473684</td>\n",
       "      <td>31.210526</td>\n",
       "      <td>0.0</td>\n",
       "      <td>NEW EXPLORATIONS INTO SCIENCE TECH AND MATH</td>\n",
       "      <td>20112012</td>\n",
       "      <td>0</td>\n",
       "      <td>23.0</td>\n",
       "      <td>1613</td>\n",
       "      <td></td>\n",
       "      <td>100</td>\n",
       "      <td>107</td>\n",
       "      <td>139</td>\n",
       "      <td>110</td>\n",
       "      <td>114</td>\n",
       "      <td>107</td>\n",
       "      <td>149</td>\n",
       "      <td>126</td>\n",
       "      <td>117</td>\n",
       "      <td>117</td>\n",
       "      <td>123</td>\n",
       "      <td>147</td>\n",
       "      <td>157</td>\n",
       "      <td>4.0</td>\n",
       "      <td>0.2</td>\n",
       "      <td>43.0</td>\n",
       "      <td>2.7</td>\n",
       "      <td>2</td>\n",
       "      <td>0</td>\n",
       "      <td>448</td>\n",
       "      <td>27.8</td>\n",
       "      <td>189</td>\n",
       "      <td>11.7</td>\n",
       "      <td>229</td>\n",
       "      <td>14.2</td>\n",
       "      <td>725</td>\n",
       "      <td>44.9</td>\n",
       "      <td>794.0</td>\n",
       "      <td>49.2</td>\n",
       "      <td>819.0</td>\n",
       "      <td>50.8</td>\n",
       "      <td>98.0</td>\n",
       "      <td>68</td>\n",
       "      <td>51</td>\n",
       "      <td>923.000000</td>\n",
       "      <td>67.0</td>\n",
       "      <td>736.0</td>\n",
       "      <td>8.5</td>\n",
       "      <td>7.9</td>\n",
       "      <td>7.9</td>\n",
       "      <td>8.4</td>\n",
       "      <td>7.6</td>\n",
       "      <td>5.6</td>\n",
       "      <td>5.9</td>\n",
       "      <td>7.3</td>\n",
       "      <td>7.300000</td>\n",
       "      <td>6.400000</td>\n",
       "      <td>7.000000</td>\n",
       "      <td>7.700000</td>\n",
       "      <td>7.8</td>\n",
       "      <td>6.7</td>\n",
       "      <td>6.9</td>\n",
       "      <td>7.8</td>\n",
       "      <td>01M539</td>\n",
       "      <td>New Explorations into Science, Technology and ...</td>\n",
       "      <td>Manhattan</td>\n",
       "      <td>M022</td>\n",
       "      <td>212-677-5190</td>\n",
       "      <td>212-260-8124</td>\n",
       "      <td>K</td>\n",
       "      <td>12</td>\n",
       "      <td>0</td>\n",
       "      <td>12.0</td>\n",
       "      <td>B39, M14A, M14D, M21, M22, M8, M9</td>\n",
       "      <td>F, J, M, Z to Delancey St-Essex St</td>\n",
       "      <td>111 Columbia Street</td>\n",
       "      <td>New York</td>\n",
       "      <td>NY</td>\n",
       "      <td>10002</td>\n",
       "      <td>www.nestmk12.net</td>\n",
       "      <td>1725.0</td>\n",
       "      <td>0</td>\n",
       "      <td>0</td>\n",
       "      <td>New Explorations into Science, Technology and ...</td>\n",
       "      <td>1st level science sequence - 9th grade: Regent...</td>\n",
       "      <td>Chinese (Mandarin), French, Italian, Latin, Sp...</td>\n",
       "      <td>Biology, Calculus AB, Calculus BC, Chemistry, ...</td>\n",
       "      <td>0</td>\n",
       "      <td>0</td>\n",
       "      <td>After-school Jazz Band, Annual Coffee House Co...</td>\n",
       "      <td>Basketball, Fencing, Indoor Track</td>\n",
       "      <td>Basketball, Fencing, Indoor Track</td>\n",
       "      <td>0</td>\n",
       "      <td>Badminton, Baseball, Cross-Country, Dance, Out...</td>\n",
       "      <td>7th Precinct Community Affairs, NYCWastele$$, ...</td>\n",
       "      <td>0</td>\n",
       "      <td>Hunter College, New York University, Cornell U...</td>\n",
       "      <td>VH1, Dancing Classrooms, Center for Arts Educa...</td>\n",
       "      <td>After 3</td>\n",
       "      <td>Time Warner Cable, Google, IBM, MET Project, S...</td>\n",
       "      <td>0</td>\n",
       "      <td>0</td>\n",
       "      <td>Dress Code Required: Business Casual - shirt/b...</td>\n",
       "      <td>0</td>\n",
       "      <td>8:15 AM</td>\n",
       "      <td>4:00 PM</td>\n",
       "      <td>This school will provide students with disabil...</td>\n",
       "      <td>ESL</td>\n",
       "      <td>Not Functionally Accessible</td>\n",
       "      <td>1</td>\n",
       "      <td>Priority to continuing 8th graders</td>\n",
       "      <td>Then to New York City residents</td>\n",
       "      <td>0</td>\n",
       "      <td>0</td>\n",
       "      <td>0</td>\n",
       "      <td>0</td>\n",
       "      <td>0</td>\n",
       "      <td>0</td>\n",
       "      <td>0</td>\n",
       "      <td>0</td>\n",
       "      <td>111 Columbia Street\\nNew York, NY 10002\\n(40.7...</td>\n",
       "      <td>40.718725</td>\n",
       "      <td>-73.979426</td>\n",
       "      <td>01</td>\n",
       "      <td>0.158091</td>\n",
       "    </tr>\n",
       "  </tbody>\n",
       "</table>\n",
       "</div>"
      ],
      "text/plain": [
       "      DBN                                        SCHOOL NAME  \\\n",
       "0  01M292      HENRY STREET SCHOOL FOR INTERNATIONAL STUDIES   \n",
       "1  01M448                UNIVERSITY NEIGHBORHOOD HIGH SCHOOL   \n",
       "2  01M450                         EAST SIDE COMMUNITY SCHOOL   \n",
       "3  01M509                            MARTA VALLE HIGH SCHOOL   \n",
       "4  01M539  NEW EXPLORATIONS INTO SCIENCE, TECHNOLOGY AND ...   \n",
       "\n",
       "  Num of SAT Test Takers  SAT Critical Reading Avg. Score  \\\n",
       "0                     29                            355.0   \n",
       "1                     91                            383.0   \n",
       "2                     70                            377.0   \n",
       "3                     44                            390.0   \n",
       "4                    159                            522.0   \n",
       "\n",
       "   SAT Math Avg. Score  SAT Writing Avg. Score  sat_score  \\\n",
       "0                404.0                   363.0     1122.0   \n",
       "1                423.0                   366.0     1172.0   \n",
       "2                402.0                   370.0     1149.0   \n",
       "3                433.0                   384.0     1207.0   \n",
       "4                574.0                   525.0     1621.0   \n",
       "\n",
       "                       SchoolName  AP Test Takers   Total Exams Taken  \\\n",
       "0                               0       129.028846         197.038462   \n",
       "1    UNIVERSITY NEIGHBORHOOD H.S.        39.000000          49.000000   \n",
       "2          EAST SIDE COMMUNITY HS        19.000000          21.000000   \n",
       "3                               0       129.028846         197.038462   \n",
       "4  NEW EXPLORATIONS SCI,TECH,MATH       255.000000         377.000000   \n",
       "\n",
       "   Number of Exams with scores 3 4 or 5   Demographic  \\\n",
       "0                                153.45  Total Cohort   \n",
       "1                                 10.00  Total Cohort   \n",
       "2                                153.45  Total Cohort   \n",
       "3                                153.45  Total Cohort   \n",
       "4                                191.00  Total Cohort   \n",
       "\n",
       "                             School Name Cohort  Total Cohort Total Grads - n  \\\n",
       "0  HENRY STREET SCHOOL FOR INTERNATIONAL   2006          78.0              43   \n",
       "1    UNIVERSITY NEIGHBORHOOD HIGH SCHOOL   2006         124.0              53   \n",
       "2             EAST SIDE COMMUNITY SCHOOL   2006          90.0              70   \n",
       "3                MARTA VALLE HIGH SCHOOL   2006          84.0              47   \n",
       "4  NEW EXPLORATIONS INTO SCIENCE  TECHNO   2006          46.0              46   \n",
       "\n",
       "  Total Grads - % of cohort Total Regents - n Total Regents - % of cohort  \\\n",
       "0                     55.1%                36                       46.2%   \n",
       "1                     42.7%                42                       33.9%   \n",
       "2                     77.8%                67         74.400000000000006%   \n",
       "3                       56%                40                       47.6%   \n",
       "4                      100%                46                        100%   \n",
       "\n",
       "  Total Regents - % of grads Advanced Regents - n  \\\n",
       "0                      83.7%                    0   \n",
       "1                      79.2%                    8   \n",
       "2                      95.7%                    0   \n",
       "3                      85.1%                   17   \n",
       "4                       100%                   31   \n",
       "\n",
       "  Advanced Regents - % of cohort Advanced Regents - % of grads  \\\n",
       "0                             0%                            0%   \n",
       "1                           6.5%                         15.1%   \n",
       "2                             0%                            0%   \n",
       "3                          20.2%           36.200000000000003%   \n",
       "4            67.400000000000006%           67.400000000000006%   \n",
       "\n",
       "  Regents w/o Advanced - n Regents w/o Advanced - % of cohort  \\\n",
       "0                       36                              46.2%   \n",
       "1                       34                              27.4%   \n",
       "2                       67                74.400000000000006%   \n",
       "3                       23                              27.4%   \n",
       "4                       15                              32.6%   \n",
       "\n",
       "  Regents w/o Advanced - % of grads Local - n Local - % of cohort  \\\n",
       "0                             83.7%         7                  9%   \n",
       "1                             64.2%        11                8.9%   \n",
       "2                             95.7%         3                3.3%   \n",
       "3                             48.9%         7  8.300000000000001%   \n",
       "4                             32.6%         0                  0%   \n",
       "\n",
       "  Local - % of grads Still Enrolled - n Still Enrolled - % of cohort  \\\n",
       "0              16.3%                 16                        20.5%   \n",
       "1              20.8%                 46                        37.1%   \n",
       "2               4.3%                 15                        16.7%   \n",
       "3              14.9%                 25                        29.8%   \n",
       "4                 0%                  0                           0%   \n",
       "\n",
       "  Dropped Out - n Dropped Out - % of cohort  CSD  \\\n",
       "0              11                     14.1%    1   \n",
       "1              20       16.100000000000001%    1   \n",
       "2               5                      5.6%    1   \n",
       "3               5                        6%    1   \n",
       "4               0                        0%    1   \n",
       "\n",
       "   NUMBER OF STUDENTS / SEATS FILLED  NUMBER OF SECTIONS  AVERAGE CLASS SIZE  \\\n",
       "0                          88.000000            4.000000           22.564286   \n",
       "1                         105.687500            4.750000           22.231250   \n",
       "2                          57.600000            2.733333           21.200000   \n",
       "3                          69.642857            3.000000           23.571429   \n",
       "4                         156.368421            6.157895           25.510526   \n",
       "\n",
       "   SIZE OF SMALLEST CLASS  SIZE OF LARGEST CLASS  \\\n",
       "0               18.500000              26.571429   \n",
       "1               18.250000              27.062500   \n",
       "2               19.400000              22.866667   \n",
       "3               20.000000              27.357143   \n",
       "4               19.473684              31.210526   \n",
       "\n",
       "   SCHOOLWIDE PUPIL-TEACHER RATIO  \\\n",
       "0                             0.0   \n",
       "1                             0.0   \n",
       "2                             0.0   \n",
       "3                             0.0   \n",
       "4                             0.0   \n",
       "\n",
       "                                               Name  schoolyear  fl_percent  \\\n",
       "0  HENRY STREET SCHOOL FOR INTERNATIONAL STUDIES       20112012           0   \n",
       "1  UNIVERSITY NEIGHBORHOOD HIGH SCHOOL                 20112012           0   \n",
       "2  EAST SIDE COMMUNITY HIGH SCHOOL                     20112012           0   \n",
       "3  MARTA VALLE SECONDARY SCHOOL                        20112012           0   \n",
       "4  NEW EXPLORATIONS INTO SCIENCE TECH AND MATH         20112012           0   \n",
       "\n",
       "   frl_percent  total_enrollment  prek     k grade1 grade2 grade3 grade4  \\\n",
       "0         88.6               422                                           \n",
       "1         71.8               394                                           \n",
       "2         71.8               598                                           \n",
       "3         80.7               367                                           \n",
       "4         23.0              1613         100    107    139    110    114   \n",
       "\n",
       "  grade5 grade6 grade7 grade8 grade9 grade10 grade11 grade12  ell_num  \\\n",
       "0            32     33     50     98      79      80      50     94.0   \n",
       "1                                109      97      93      95     83.0   \n",
       "2            92     73     76    101      93      77      86     30.0   \n",
       "3                                143     100      51      73     41.0   \n",
       "4    107    149    126    117    117     123     147     157      4.0   \n",
       "\n",
       "   ell_percent  sped_num  sped_percent ctt_num selfcontained_num  asian_num  \\\n",
       "0         22.3     105.0          24.9      34                35         59   \n",
       "1         21.1      86.0          21.8      55                10        115   \n",
       "2          5.0     158.0          26.4      91                19         58   \n",
       "3         11.2      95.0          25.9      28                36         34   \n",
       "4          0.2      43.0           2.7       2                 0        448   \n",
       "\n",
       "   asian_per  black_num  black_per  hispanic_num  hispanic_per  white_num  \\\n",
       "0       14.0        123       29.1           227          53.8          7   \n",
       "1       29.2         89       22.6           181          45.9          9   \n",
       "2        9.7        143       23.9           331          55.4         62   \n",
       "3        9.3        116       31.6           209          56.9          6   \n",
       "4       27.8        189       11.7           229          14.2        725   \n",
       "\n",
       "   white_per  male_num  male_per  female_num  female_per  rr_s  rr_t  rr_p  \\\n",
       "0        1.7     259.0      61.4       163.0        38.6  89.0    70    39   \n",
       "1        2.3     226.0      57.4       168.0        42.6  84.0    95    10   \n",
       "2       10.4     327.0      54.7       271.0        45.3   0.0    98    28   \n",
       "3        1.6     170.0      46.3       197.0        53.7  90.0   100    21   \n",
       "4       44.9     794.0      49.2       819.0        50.8  98.0    68    51   \n",
       "\n",
       "          N_s   N_t    N_p  saf_p_11  com_p_11  eng_p_11  aca_p_11  saf_t_11  \\\n",
       "0  379.000000  26.0  151.0       7.8       7.7       7.4       7.6       6.3   \n",
       "1  385.000000  37.0   46.0       7.9       7.4       7.2       7.3       6.6   \n",
       "2  598.208333  42.0  150.0       8.7       8.2       8.1       8.4       7.3   \n",
       "3  306.000000  29.0   69.0       7.7       7.4       7.2       7.3       6.4   \n",
       "4  923.000000  67.0  736.0       8.5       7.9       7.9       8.4       7.6   \n",
       "\n",
       "   com_t_11  eng_t_11  aca_t_11  saf_s_11  com_s_11  eng_s_11  aca_s_11  \\\n",
       "0       5.3       6.1       6.5  6.000000  5.600000  6.100000  6.700000   \n",
       "1       5.8       6.6       7.3  6.000000  5.700000  6.300000  7.000000   \n",
       "2       8.0       8.0       8.8  6.611667  6.094722  6.620278  7.381389   \n",
       "3       5.3       6.1       6.8  6.400000  5.900000  6.400000  7.000000   \n",
       "4       5.6       5.9       7.3  7.300000  6.400000  7.000000  7.700000   \n",
       "\n",
       "   saf_tot_11  com_tot_11  eng_tot_11  aca_tot_11     dbn  \\\n",
       "0         6.7         6.2         6.6         7.0  01M292   \n",
       "1         6.8         6.3         6.7         7.2  01M448   \n",
       "2         7.9         7.9         7.9         8.4  01M450   \n",
       "3         6.9         6.2         6.6         7.0  01M509   \n",
       "4         7.8         6.7         6.9         7.8  01M539   \n",
       "\n",
       "                                         school_name       boro building_code  \\\n",
       "0      Henry Street School for International Studies  Manhattan          M056   \n",
       "1                University Neighborhood High School  Manhattan          M446   \n",
       "2                         East Side Community School  Manhattan          M060   \n",
       "3                            Marta Valle High School  Manhattan          M025   \n",
       "4  New Explorations into Science, Technology and ...  Manhattan          M022   \n",
       "\n",
       "   phone_number    fax_number grade_span_min  grade_span_max  \\\n",
       "0  212-406-9411  212-406-9417              6              12   \n",
       "1  212-962-4341  212-267-5611              9              12   \n",
       "2  212-460-8467  212-260-9657              6              12   \n",
       "3  212-473-8152  212-475-7588              9              12   \n",
       "4  212-677-5190  212-260-8124              K              12   \n",
       "\n",
       "  expgrade_span_min  expgrade_span_max  \\\n",
       "0                 0               12.0   \n",
       "1                 0               12.0   \n",
       "2                 0               12.0   \n",
       "3                 0               12.0   \n",
       "4                 0               12.0   \n",
       "\n",
       "                                                 bus  \\\n",
       "0        B39, M14A, M14D, M15, M15-SBS, M21, M22, M9   \n",
       "1                      M14A, M14D, M15, M21, M22, M9   \n",
       "2  M101, M102, M103, M14A, M14D, M15, M15-SBS, M2...   \n",
       "3  B39, M103, M14A, M14D, M15, M15-SBS, M21, M22,...   \n",
       "4                  B39, M14A, M14D, M21, M22, M8, M9   \n",
       "\n",
       "                                              subway primary_address_line_1  \\\n",
       "0  B, D to Grand St ; F to East Broadway ; J, M, ...       220 Henry Street   \n",
       "1  F to East Broadway ; J, M, Z to Delancey St-Es...      200 Monroe Street   \n",
       "2                    6 to Astor Place ; L to 1st Ave     420 East 12 Street   \n",
       "3  B, D to Grand St ; F, J, M, Z to Delancey St-E...     145 Stanton Street   \n",
       "4                 F, J, M, Z to Delancey St-Essex St    111 Columbia Street   \n",
       "\n",
       "       city state_code    zip                                       website  \\\n",
       "0  New York         NY  10002  http://schools.nyc.gov/schoolportals/01/M292   \n",
       "1  New York         NY  10002              www.universityneighborhoodhs.com   \n",
       "2  New York         NY  10009                                 www.eschs.org   \n",
       "3  New York         NY  10002                            www.martavalle.org   \n",
       "4  New York         NY  10002                              www.nestmk12.net   \n",
       "\n",
       "   total_students campus_name        school_type  \\\n",
       "0           323.0           0                  0   \n",
       "1           299.0           0                  0   \n",
       "2           649.0           0  Consortium School   \n",
       "3           401.0           0                  0   \n",
       "4          1725.0           0                  0   \n",
       "\n",
       "                                  overview_paragraph  \\\n",
       "0  Henry Street School for International Studies ...   \n",
       "1  University Neighborhood High School (UNHS) is ...   \n",
       "2  We are a small 6-12 secondary school that prep...   \n",
       "3  Marta Valle High School (MVHS) offers a strong...   \n",
       "4  New Explorations into Science, Technology and ...   \n",
       "\n",
       "                                  program_highlights  \\\n",
       "0  Global/International Studies in core subjects,...   \n",
       "1  While attending UNHS, students can earn up to ...   \n",
       "2  Our Advisory System ensures that we can effect...   \n",
       "3  Advanced Regents Diploma, Early Graduation, up...   \n",
       "4  1st level science sequence - 9th grade: Regent...   \n",
       "\n",
       "                                    language_classes  \\\n",
       "0                        Chinese (Mandarin), Spanish   \n",
       "1                                   Chinese, Spanish   \n",
       "2                                                  0   \n",
       "3                                    French, Spanish   \n",
       "4  Chinese (Mandarin), French, Italian, Latin, Sp...   \n",
       "\n",
       "                           advancedplacement_courses  \\\n",
       "0                                         Psychology   \n",
       "1  Calculus AB, Chinese Language and Culture, Eng...   \n",
       "2    Calculus AB, English Literature and Composition   \n",
       "3  English Literature and Composition, Studio Art...   \n",
       "4  Biology, Calculus AB, Calculus BC, Chemistry, ...   \n",
       "\n",
       "                                   online_ap_courses  \\\n",
       "0  Chinese Language and Culture, Spanish Literatu...   \n",
       "1                                                  0   \n",
       "2                                                  0   \n",
       "3                                                  0   \n",
       "4                                                  0   \n",
       "\n",
       "                             online_language_courses  \\\n",
       "0                        Chinese (Mandarin), Spanish   \n",
       "1   Chinese (Cantonese), Chinese (Mandarin), Spanish   \n",
       "2  American Sign Language, Arabic, Chinese (Manda...   \n",
       "3                                            Spanish   \n",
       "4                                                  0   \n",
       "\n",
       "                          extracurricular_activities  \\\n",
       "0  Math through Card Play; Art, Poetry/Spoken Wor...   \n",
       "1  Basketball, Badminton, Handball, Glee, Dance, ...   \n",
       "2  After-School Tutoring, Art Portfolio Classes, ...   \n",
       "3  Model Peer Leadership Program, 'The Vine' Stud...   \n",
       "4  After-school Jazz Band, Annual Coffee House Co...   \n",
       "\n",
       "                                    psal_sports_boys  \\\n",
       "0                                         Basketball   \n",
       "1  Baseball, Basketball, Bowling, Cross Country, ...   \n",
       "2                       Baseball, Basketball, Soccer   \n",
       "3                                  Basketball, Rugby   \n",
       "4                  Basketball, Fencing, Indoor Track   \n",
       "\n",
       "                                   psal_sports_girls psal_sports_coed  \\\n",
       "0                                           Softball           Soccer   \n",
       "1  Basketball, Bowling, Cross Country, Softball, ...                0   \n",
       "2                       Basketball, Soccer, Softball                0   \n",
       "3                                  Rugby, Volleyball            Rugby   \n",
       "4                  Basketball, Fencing, Indoor Track                0   \n",
       "\n",
       "                                       school_sports  \\\n",
       "0  Boxing, Track, CHAMPS, Tennis, Flag Football, ...   \n",
       "1                                                  0   \n",
       "2  Basketball, Bicycling, Fitness, Flag Football,...   \n",
       "3                                  Volleyball, Zumba   \n",
       "4  Badminton, Baseball, Cross-Country, Dance, Out...   \n",
       "\n",
       "                                         partner_cbo  \\\n",
       "0  The Henry Street Settlement; Asia Society; Ame...   \n",
       "1  Grand Street Settlement, Henry Street Settleme...   \n",
       "2  University Settlement, Big Brothers Big Sister...   \n",
       "3  NYCDOE Innovation Zone Lab Site, Grand Street ...   \n",
       "4  7th Precinct Community Affairs, NYCWastele$$, ...   \n",
       "\n",
       "                                    partner_hospital  \\\n",
       "0               Gouverneur Hospital (Turning Points)   \n",
       "1  Gouverneur Hospital, The Door, The Mount Sinai...   \n",
       "2                                                  0   \n",
       "3                               Gouvenuer's Hospital   \n",
       "4                                                  0   \n",
       "\n",
       "                                    partner_highered  \\\n",
       "0                                New York University   \n",
       "1  New York University, CUNY Baruch College, Pars...   \n",
       "2  Columbia Teachers College, New York University...   \n",
       "3  New York University (NYU), Sarah Lawrence Coll...   \n",
       "4  Hunter College, New York University, Cornell U...   \n",
       "\n",
       "                                    partner_cultural  \\\n",
       "0                                       Asia Society   \n",
       "1  Dance Film Association, Dance Makers Film Work...   \n",
       "2  , Internship Program, Loisaida Art Gallery loc...   \n",
       "3  Young Audiences, The National Arts Club, Educa...   \n",
       "4  VH1, Dancing Classrooms, Center for Arts Educa...   \n",
       "\n",
       "                                   partner_nonprofit  \\\n",
       "0                        Heart of America Foundation   \n",
       "1  W!SE, Big Brothers Big Sisters, Peer Health Ex...   \n",
       "2  College Bound Initiative, Center for Collabora...   \n",
       "3  College for Every Student (CFES), Morningside ...   \n",
       "4                                            After 3   \n",
       "\n",
       "                                   partner_corporate partner_financial  \\\n",
       "0                                                  0                 0   \n",
       "1  Deloitte LLP Consulting and Financial Services...                 0   \n",
       "2  Prudential Securities, Moore Capital, Morgan S...                 0   \n",
       "3                                       Estée Lauder   Bank of America   \n",
       "4  Time Warner Cable, Google, IBM, MET Project, S...                 0   \n",
       "\n",
       "                       partner_other  \\\n",
       "0                     United Nations   \n",
       "1                  Movement Research   \n",
       "2  Brooklyn Boulders (Rock Climbing)   \n",
       "3                   CASALEAP, Beacon   \n",
       "4                                  0   \n",
       "\n",
       "                                         addtl_info1  \\\n",
       "0                                                  0   \n",
       "1  Incoming students are expected to attend schoo...   \n",
       "2  Students present and defend their work to comm...   \n",
       "3  Students Dress for Success, Summer Bridge to S...   \n",
       "4  Dress Code Required: Business Casual - shirt/b...   \n",
       "\n",
       "                                         addtl_info2 start_time end_time  \\\n",
       "0                                                  0    8:30 AM  3:30 PM   \n",
       "1  Community Service Requirement, Dress Code Requ...    8:15 AM  3:15 PM   \n",
       "2  Our school requires an Academic Portfolio for ...    8:30 AM  3:30 PM   \n",
       "3  Community Service Requirement, Extended Day Pr...    8:00 AM  3:30 PM   \n",
       "4                                                  0    8:15 AM  4:00 PM   \n",
       "\n",
       "                                         se_services ell_programs  \\\n",
       "0  This school will provide students with disabil...          ESL   \n",
       "1  This school will provide students with disabil...          ESL   \n",
       "2  This school will provide students with disabil...          ESL   \n",
       "3  This school will provide students with disabil...          ESL   \n",
       "4  This school will provide students with disabil...          ESL   \n",
       "\n",
       "  school_accessibility_description  number_programs  \\\n",
       "0          Functionally Accessible                1   \n",
       "1      Not Functionally Accessible                3   \n",
       "2      Not Functionally Accessible                1   \n",
       "3          Functionally Accessible                1   \n",
       "4      Not Functionally Accessible                1   \n",
       "\n",
       "                                     priority01  \\\n",
       "0            Priority to continuing 8th graders   \n",
       "1               Open to New York City residents   \n",
       "2            Priority to continuing 8th graders   \n",
       "3  Priority to District 1 students or residents   \n",
       "4            Priority to continuing 8th graders   \n",
       "\n",
       "                                          priority02  \\\n",
       "0  Then to Manhattan students or residents who at...   \n",
       "1  For M35B only: Open only to students whose hom...   \n",
       "2                    Then to New York City residents   \n",
       "3            Then to Manhattan students or residents   \n",
       "4                    Then to New York City residents   \n",
       "\n",
       "                                          priority03  \\\n",
       "0  Then to New York City residents who attend an ...   \n",
       "1                                                  0   \n",
       "2                                                  0   \n",
       "3                    Then to New York City residents   \n",
       "4                                                  0   \n",
       "\n",
       "                                priority04                       priority05  \\\n",
       "0  Then to Manhattan students or residents  Then to New York City residents   \n",
       "1                                        0                                0   \n",
       "2                                        0                                0   \n",
       "3                                        0                                0   \n",
       "4                                        0                                0   \n",
       "\n",
       "  priority06 priority07  priority08  priority09  priority10  \\\n",
       "0          0          0           0           0           0   \n",
       "1          0          0           0           0           0   \n",
       "2          0          0           0           0           0   \n",
       "3          0          0           0           0           0   \n",
       "4          0          0           0           0           0   \n",
       "\n",
       "                                          Location 1        lat        lon  \\\n",
       "0  220 Henry Street\\nNew York, NY 10002\\n(40.7137...  40.713764 -73.985260   \n",
       "1  200 Monroe Street\\nNew York, NY 10002\\n(40.712...  40.712332 -73.984797   \n",
       "2  420 East 12 Street\\nNew York, NY 10009\\n(40.72...  40.729783 -73.983041   \n",
       "3  145 Stanton Street\\nNew York, NY 10002\\n(40.72...  40.720569 -73.985673   \n",
       "4  111 Columbia Street\\nNew York, NY 10002\\n(40.7...  40.718725 -73.979426   \n",
       "\n",
       "  school_dist    ap_per  \n",
       "0          01  0.305756  \n",
       "1          01  0.098985  \n",
       "2          01  0.031773  \n",
       "3          01  0.351577  \n",
       "4          01  0.158091  "
      ]
     },
     "execution_count": 27,
     "metadata": {},
     "output_type": "execute_result"
    }
   ],
   "source": [
    "pd.set_option('display.max_columns', None)\n",
    "combined.head()"
   ]
  },
  {
   "cell_type": "code",
   "execution_count": 28,
   "metadata": {
    "collapsed": false
   },
   "outputs": [
    {
     "data": {
      "text/plain": [
       "0.3810143308095523"
      ]
     },
     "execution_count": 28,
     "metadata": {},
     "output_type": "execute_result"
    }
   ],
   "source": [
    "#Finding correlation between AVERAGE CLASS SIZE and sat score\n",
    "combined.corr()['AVERAGE CLASS SIZE']['sat_score']"
   ]
  },
  {
   "cell_type": "code",
   "execution_count": 29,
   "metadata": {
    "collapsed": false
   },
   "outputs": [
    {
     "data": {
      "text/plain": [
       "<matplotlib.axes._subplots.AxesSubplot at 0x7fcf0d485f98>"
      ]
     },
     "execution_count": 29,
     "metadata": {},
     "output_type": "execute_result"
    },
    {
     "data": {
      "image/png": "[encoded data removed]",
      "text/plain": [
       "<matplotlib.figure.Figure at 0x7fcf0d501438>"
      ]
     },
     "metadata": {},
     "output_type": "display_data"
    }
   ],
   "source": [
    "#Scatter plot the relationship\n",
    "combined.plot.scatter(x='AVERAGE CLASS SIZE', y='sat_score')"
   ]
  },
  {
   "cell_type": "markdown",
   "metadata": {},
   "source": [
    "There seems to be a slight postive correlation between the average class size and sat scores, which could be a matter of larger sample size that could skew the data higher or, at the risk of misattribution, larger classes sizes on average may create a competitive environment for higher performance."
   ]
  },
  {
   "cell_type": "markdown",
   "metadata": {},
   "source": [
    "## Inequality of Poverty\n",
    "\n",
    "Based on our analysis thus far, a couple of strong correlations have been found:\n",
    "\n",
    "- Smaller schools do slightly worse overall\n",
    "- Larger number of ESL students means worse scores on average\n",
    "- Black and Hispanic populaces typically suffer from worse scores, but the schools with higher black/hispanic populations and lower scores had high rates of poverty.\n",
    "- A feeling of safety has a somewhat positive correlation with SAT scores\n",
    "- Higher number of AP test takers means higher SAT scores.\n",
    "- Most of these, with the exception of safety (where the average student safety was relatively unimpacted by surrounding poverty levels), are directly correlated to poverty issues. To take a closer look at this, we'll examine the percentage of students receiving free or reduced-cost lunches."
   ]
  },
  {
   "cell_type": "code",
   "execution_count": 30,
   "metadata": {
    "collapsed": false
   },
   "outputs": [
    {
     "data": {
      "text/plain": [
       "<matplotlib.text.Text at 0x7fcf0d4e1390>"
      ]
     },
     "execution_count": 30,
     "metadata": {},
     "output_type": "execute_result"
    },
    {
     "data": {
      "image/png": "[encoded data removed]",
      "text/plain": [
       "<matplotlib.figure.Figure at 0x7fcf0d4f7cc0>"
      ]
     },
     "metadata": {},
     "output_type": "display_data"
    }
   ],
   "source": [
    "sns.set(style='whitegrid', context='talk')\n",
    "plt.figure(figsize=(8,8))\n",
    "sns.regplot(x='sat_score', y='frl_percent', data=combined)\n",
    "plt.xlabel('SAT score')\n",
    "plt.ylabel('Percentage of Students Receiving Reduced-Cost/Free Lunch')"
   ]
  },
  {
   "cell_type": "code",
   "execution_count": 31,
   "metadata": {
    "collapsed": false
   },
   "outputs": [
    {
     "data": {
      "text/plain": [
       "-0.7222246349966357"
      ]
     },
     "execution_count": 31,
     "metadata": {},
     "output_type": "execute_result"
    }
   ],
   "source": [
    "combined.corr()['sat_score']['frl_percent']"
   ]
  },
  {
   "cell_type": "markdown",
   "metadata": {},
   "source": [
    "It's very clear: the higher the percentage of students with financial-aid for lunch, the lower the average SAT Scores. "
   ]
  },
  {
   "cell_type": "markdown",
   "metadata": {},
   "source": [
    "## Conclusion\n",
    "\n",
    "There are a variety of factors that play into a school's average SAT scores. The common factor, however, is money. The schools with lower funding tend to have fewer AP classes which means they have fewer students preparing specifically for college readinesss. Schools with higher percentages of ESL students spend more of their budget focusing on teaching English to their foreign language students. And most prominently: schools with higher percentages of students receiving lunch assistance have lower SAT scores on average.\n",
    "\n",
    "Money talks louder than any other factor. Students of poverty must spend larger portions of their time outside of school dedicated to survival and must overcome larger hurdles put in place by socioeconomic disadvantage. Examples of poverty-induced hurdles:\n",
    "\n",
    "- Many high school students in poverty have to work to help with bills/rent/etc, which can [negatively impact their schoolwork](https://www.ncbi.nlm.nih.gov/pmc/articles/PMC2936460/), if the family is already in poverty.\n",
    "- Many have to help with chores around the house while their parents/guardians work second or even third jobs.\n",
    "- Some have to rely on [reduced nutrients and cognition due to diet](http://www.ascd.org/publications/educational-leadership/may13/vol70/num08/How-Poverty-Affects-Classroom-Engagement.aspx).\n",
    "- Employed parents in poverty are least likely to get [access to the support infrastructures their children need](https://files.eric.ed.gov/fulltext/EJ1029033.pdf).\n",
    "- Poor students tend to live in [regions with under-funded schools](https://www.irp.wisc.edu/publications/focus/pdfs/foc332e.pdf).\n",
    "- Under-funded schools tend to [lack the funding for advanced classes](https://www.gao.gov/products/gao-19-8) which lead to lower levels of college preparedness."
   ]
  }
 ],
 "metadata": {
  "kernelspec": {
   "display_name": "Python 3",
   "language": "python",
   "name": "python3"
  },
  "language_info": {
   "codemirror_mode": {
    "name": "ipython",
    "version": 3
   },
   "file_extension": ".py",
   "mimetype": "text/x-python",
   "name": "python",
   "nbconvert_exporter": "python",
   "pygments_lexer": "ipython3",
   "version": "3.4.3"
  }
 },
 "nbformat": 4,
 "nbformat_minor": 2
}
